{
 "cells": [
  {
   "cell_type": "code",
   "execution_count": 12,
   "id": "aad41af5",
   "metadata": {},
   "outputs": [
    {
     "name": "stdout",
     "output_type": "stream",
     "text": [
      "error\n",
      "over\n"
     ]
    }
   ],
   "source": [
    "try:\n",
    "    string = \"python\"\n",
    "    for s in string:\n",
    "        if (s!=o):\n",
    "            print(s)\n",
    "except:\n",
    "    print(\"error\")\n",
    "finally:\n",
    "    print(\"over\")"
   ]
  },
  {
   "cell_type": "code",
   "execution_count": 17,
   "id": "cf8de2d1",
   "metadata": {},
   "outputs": [
    {
     "name": "stdout",
     "output_type": "stream",
     "text": [
      "error\n",
      "over\n"
     ]
    }
   ],
   "source": [
    "try :\n",
    "    a = {\"name\" : \"bhoomika\",\n",
    "      \"class\" : 10,\n",
    "        schl:\"jnv\"}\n",
    "    print(a)\n",
    "except NameError:\n",
    "    print(\"error\")\n",
    "finally:\n",
    "    print(\"over\")"
   ]
  },
  {
   "cell_type": "code",
   "execution_count": 19,
   "id": "5c6b7915",
   "metadata": {},
   "outputs": [
    {
     "name": "stdout",
     "output_type": "stream",
     "text": [
      "integer can not be divided by letter\n",
      "over\n"
     ]
    }
   ],
   "source": [
    "try:\n",
    "    a =20\n",
    "    b = \"b\"\n",
    "    c = a/b\n",
    "    print(c)\n",
    "except:\n",
    "    print(\"integer can not be divided by letter\")\n",
    "finally:\n",
    "    print(\"over\")"
   ]
  },
  {
   "cell_type": "code",
   "execution_count": 25,
   "id": "f52df8f7",
   "metadata": {},
   "outputs": [
    {
     "name": "stdout",
     "output_type": "stream",
     "text": [
      "error\n"
     ]
    }
   ],
   "source": [
    "try:\n",
    "    text = open(\"mypoem\",\"r\")\n",
    "    text.write(\"aaa\")\n",
    "except IOError:\n",
    "    print(\"error\")\n",
    "else:\n",
    "    print(\"text is finally written \")"
   ]
  },
  {
   "cell_type": "code",
   "execution_count": 5,
   "id": "5291b62f",
   "metadata": {},
   "outputs": [
    {
     "name": "stdout",
     "output_type": "stream",
     "text": [
      "enter a number10\n",
      "10 is within the allowed range\n"
     ]
    }
   ],
   "source": [
    "    try:\n",
    "        x = int(input(\"enter a number\"))\n",
    "        if x>10:\n",
    "            raise ValueError(x)\n",
    "    except ValueError:\n",
    "        print(x,\"is out of allowed range\")\n",
    "    else:\n",
    "        print(x,\"is within the allowed range\")"
   ]
  },
  {
   "cell_type": "code",
   "execution_count": 8,
   "id": "2591ce25",
   "metadata": {},
   "outputs": [
    {
     "name": "stdout",
     "output_type": "stream",
     "text": [
      "enter a number10\n",
      "enter a number0\n",
      "divide by zero\n"
     ]
    }
   ],
   "source": [
    "try:\n",
    "    a = int(input(\"enter a number\"))\n",
    "    b = int(input(\"enter a number\"))\n",
    "    c = a/b\n",
    "except ZeroDivisionError:\n",
    "    print(\"divide by zero\")\n",
    "else:\n",
    "    print(c)"
   ]
  },
  {
   "cell_type": "code",
   "execution_count": 21,
   "id": "c119796b",
   "metadata": {},
   "outputs": [
    {
     "name": "stdout",
     "output_type": "stream",
     "text": [
      "enter a numbera\n",
      "input is letter\n"
     ]
    }
   ],
   "source": [
    "try:\n",
    "    a = int(input(\"enter a number\"))\n",
    "except:\n",
    "    print(\"input is letter\")\n",
    "else:\n",
    "    print(\"input is number\")"
   ]
  },
  {
   "cell_type": "code",
   "execution_count": 32,
   "id": "d7aa0353",
   "metadata": {},
   "outputs": [
    {
     "name": "stdout",
     "output_type": "stream",
     "text": [
      "enter a number10\n",
      "enter a numberv\n",
      "error\n"
     ]
    }
   ],
   "source": [
    "try: \n",
    "    a = int(input(\"enter a number\"))\n",
    "    b = int(input(\"enter a number\"))\n",
    "    c = a + b\n",
    "except ValueError:\n",
    "    print(\"error\")\n",
    "else:\n",
    "    print(c)\n"
   ]
  },
  {
   "cell_type": "code",
   "execution_count": 47,
   "id": "0aaa9b78",
   "metadata": {},
   "outputs": [
    {
     "name": "stdout",
     "output_type": "stream",
     "text": [
      "1.add\n",
      "2.sub\n",
      "3.mul\n",
      "4.div\n",
      "enter your choice4\n",
      "enter a number4\n",
      "enter a number4\n",
      "1.0\n"
     ]
    }
   ],
   "source": [
    "#a = int(input(\"enter a number\"))\n",
    "#b = int(input(\"enter a number\"))\n",
    "choice = print(\"1.add\\n2.sub\\n3.mul\\n4.div\")\n",
    "choice = int(input(\"enter your choice\"))\n",
    "if choice == 1:\n",
    "    try:\n",
    "        a = int(input(\"enter a number\"))\n",
    "        b = int(input(\"enter a number\"))\n",
    "        c = a+b\n",
    "    except ValueError:\n",
    "        print(\"error\")\n",
    "    else:\n",
    "        print(c)\n",
    "\n",
    "if choice == 2:\n",
    "    try:\n",
    "        a = int(input(\"enter a number\"))\n",
    "        b = int(input(\"enter a number\"))\n",
    "        c = a-b\n",
    "    except:\n",
    "        print(\"error\")\n",
    "    else:\n",
    "        print(c)\n",
    "\n",
    "if choice == 3:\n",
    "    try:\n",
    "        a = int(input(\"enter a number\"))\n",
    "        b = int(input(\"enter a number\"))\n",
    "        c = a*b\n",
    "    except:\n",
    "        print(\"error\")\n",
    "    else:\n",
    "        print(c)\n",
    "\n",
    "if choice == 4:\n",
    "    try:\n",
    "        a = int(input(\"enter a number\"))\n",
    "        b = int(input(\"enter a number\"))\n",
    "        c = a/b\n",
    "    except:\n",
    "        print(\"divide by zero\")\n",
    "    else:\n",
    "        print(c)\n",
    "\n",
    "        \n",
    "else:\n",
    "    print(\"invalid choice\")"
   ]
  }
 ],
 "metadata": {
  "kernelspec": {
   "display_name": "Python 3 (ipykernel)",
   "language": "python",
   "name": "python3"
  },
  "language_info": {
   "codemirror_mode": {
    "name": "ipython",
    "version": 3
   },
   "file_extension": ".py",
   "mimetype": "text/x-python",
   "name": "python",
   "nbconvert_exporter": "python",
   "pygments_lexer": "ipython3",
   "version": "3.9.13"
  }
 },
 "nbformat": 4,
 "nbformat_minor": 5
}
