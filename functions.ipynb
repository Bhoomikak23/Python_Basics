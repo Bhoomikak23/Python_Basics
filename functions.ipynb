{
 "cells": [
  {
   "cell_type": "code",
   "execution_count": 9,
   "id": "cd46e749",
   "metadata": {},
   "outputs": [
    {
     "name": "stdout",
     "output_type": "stream",
     "text": [
      "8\n"
     ]
    }
   ],
   "source": [
    "def add(a,b):\n",
    "    print(a+b)\n",
    "add(3,5)"
   ]
  },
  {
   "cell_type": "code",
   "execution_count": 15,
   "id": "d05353cc",
   "metadata": {},
   "outputs": [
    {
     "name": "stdout",
     "output_type": "stream",
     "text": [
      "67\n",
      "56\n",
      "11\n"
     ]
    }
   ],
   "source": [
    "def add(a,b):\n",
    "    print(a+b)\n",
    "    print(a)\n",
    "    print(b)\n",
    "a = 56\n",
    "b = 11\n",
    "add(a,b)"
   ]
  },
  {
   "cell_type": "code",
   "execution_count": 1,
   "id": "6a986fc1",
   "metadata": {},
   "outputs": [
    {
     "name": "stdout",
     "output_type": "stream",
     "text": [
      "10\n"
     ]
    }
   ],
   "source": [
    "def add(a,b):\n",
    "    print(a+b)\n",
    "add(3,7)"
   ]
  },
  {
   "cell_type": "code",
   "execution_count": 17,
   "id": "ca4856ac",
   "metadata": {},
   "outputs": [
    {
     "name": "stdout",
     "output_type": "stream",
     "text": [
      "28\n"
     ]
    }
   ],
   "source": [
    "a =  4\n",
    "b = 7\n",
    "def mul(a,b):\n",
    "    print(a*b)\n",
    "mul(a,b)"
   ]
  },
  {
   "cell_type": "code",
   "execution_count": 20,
   "id": "1755740c",
   "metadata": {},
   "outputs": [
    {
     "name": "stdout",
     "output_type": "stream",
     "text": [
      "2.0\n"
     ]
    }
   ],
   "source": [
    "a = 56\n",
    "b = 11\n",
    "def div(a,b):\n",
    "    print(a/b)\n",
    "div(4,2)"
   ]
  },
  {
   "cell_type": "code",
   "execution_count": 21,
   "id": "0afdfc17",
   "metadata": {},
   "outputs": [
    {
     "data": {
      "text/plain": [
       "33"
      ]
     },
     "execution_count": 21,
     "metadata": {},
     "output_type": "execute_result"
    }
   ],
   "source": [
    "a = 67\n",
    "b = 34\n",
    "def sub(a,b):\n",
    "    return a-b\n",
    "sub(a,b)\n"
   ]
  },
  {
   "cell_type": "code",
   "execution_count": 23,
   "id": "5776b960",
   "metadata": {},
   "outputs": [],
   "source": [
    "var1 = sub(78,45)"
   ]
  },
  {
   "cell_type": "code",
   "execution_count": 26,
   "id": "c7b206a6",
   "metadata": {},
   "outputs": [
    {
     "name": "stdout",
     "output_type": "stream",
     "text": [
      "5.0\n"
     ]
    }
   ],
   "source": [
    "var2 = div(10,2)"
   ]
  },
  {
   "cell_type": "code",
   "execution_count": 41,
   "id": "ab50f920",
   "metadata": {},
   "outputs": [
    {
     "name": "stdout",
     "output_type": "stream",
     "text": [
      "1.add\n",
      "2.sub\n",
      "3.mul\n",
      "4.div\n",
      "enter your choice4\n",
      "enter a numbe:5\n",
      "enter a number5\n",
      "1.0\n"
     ]
    }
   ],
   "source": [
    "\n",
    "print(\"1.add\\n2.sub\\n3.mul\\n4.div\")\n",
    "choice = int(input(\"enter your choice\"))\n",
    "a = int(input(\"enter a number:\"))\n",
    "b = int(input(\"enter a number\"))\n",
    "if choice == 1:\n",
    "    def add(a,b):\n",
    "        print(a+b)\n",
    "    add(a,b)\n",
    "elif choice == 2:\n",
    "    def sub(a,b):\n",
    "        print(a-b)\n",
    "    sub(a,b)\n",
    "elif choice == 3:\n",
    "    def mul(a,b):\n",
    "        print(a*b)\n",
    "    mul(a,b)\n",
    "elif choice == 4:\n",
    "    def div(a,b):\n",
    "        print(a/b)\n",
    "    div(a,b)\n",
    "else:\n",
    "    pass"
   ]
  },
  {
   "cell_type": "code",
   "execution_count": 1,
   "id": "ffdabb1b",
   "metadata": {},
   "outputs": [
    {
     "name": "stdout",
     "output_type": "stream",
     "text": [
      "0.6\n"
     ]
    }
   ],
   "source": [
    "def si(p,t,r):\n",
    "    print(p*t*r/100)\n",
    "si(3,4,5)"
   ]
  },
  {
   "cell_type": "code",
   "execution_count": 23,
   "id": "fc14624e",
   "metadata": {},
   "outputs": [
    {
     "ename": "TypeError",
     "evalue": "'int' object is not callable",
     "output_type": "error",
     "traceback": [
      "\u001b[1;31m---------------------------------------------------------------------------\u001b[0m",
      "\u001b[1;31mTypeError\u001b[0m                                 Traceback (most recent call last)",
      "\u001b[1;32m~\\AppData\\Local\\Temp\\ipykernel_3832\\4009291421.py\u001b[0m in \u001b[0;36m<module>\u001b[1;34m\u001b[0m\n\u001b[0;32m      6\u001b[0m     \u001b[0mci\u001b[0m \u001b[1;33m=\u001b[0m \u001b[0ma\u001b[0m\u001b[1;33m-\u001b[0m\u001b[0mp\u001b[0m\u001b[1;33m\u001b[0m\u001b[1;33m\u001b[0m\u001b[0m\n\u001b[0;32m      7\u001b[0m     \u001b[0mprint\u001b[0m\u001b[1;33m(\u001b[0m\u001b[1;34m\"compound interest is\"\u001b[0m\u001b[1;33m,\u001b[0m\u001b[0mci\u001b[0m\u001b[1;33m)\u001b[0m\u001b[1;33m\u001b[0m\u001b[1;33m\u001b[0m\u001b[0m\n\u001b[1;32m----> 8\u001b[1;33m \u001b[0mc_i\u001b[0m\u001b[1;33m(\u001b[0m\u001b[0mp\u001b[0m\u001b[1;33m,\u001b[0m\u001b[0mr\u001b[0m\u001b[1;33m,\u001b[0m\u001b[0mn\u001b[0m\u001b[1;33m)\u001b[0m\u001b[1;33m\u001b[0m\u001b[1;33m\u001b[0m\u001b[0m\n\u001b[0m",
      "\u001b[1;32m~\\AppData\\Local\\Temp\\ipykernel_3832\\4009291421.py\u001b[0m in \u001b[0;36mc_i\u001b[1;34m(p, r, n)\u001b[0m\n\u001b[0;32m      3\u001b[0m \u001b[0mn\u001b[0m \u001b[1;33m=\u001b[0m \u001b[1;36m2\u001b[0m\u001b[1;33m\u001b[0m\u001b[1;33m\u001b[0m\u001b[0m\n\u001b[0;32m      4\u001b[0m \u001b[1;32mdef\u001b[0m \u001b[0mc_i\u001b[0m\u001b[1;33m(\u001b[0m\u001b[0mp\u001b[0m\u001b[1;33m,\u001b[0m\u001b[0mr\u001b[0m\u001b[1;33m,\u001b[0m\u001b[0mn\u001b[0m\u001b[1;33m)\u001b[0m\u001b[1;33m:\u001b[0m\u001b[1;33m\u001b[0m\u001b[1;33m\u001b[0m\u001b[0m\n\u001b[1;32m----> 5\u001b[1;33m     \u001b[0ma\u001b[0m \u001b[1;33m=\u001b[0m \u001b[0mp\u001b[0m\u001b[1;33m(\u001b[0m\u001b[1;36m1\u001b[0m\u001b[1;33m+\u001b[0m\u001b[1;33m(\u001b[0m\u001b[0mr\u001b[0m\u001b[1;33m/\u001b[0m\u001b[1;36m100\u001b[0m\u001b[1;33m)\u001b[0m\u001b[1;33m)\u001b[0m\u001b[1;33m**\u001b[0m\u001b[0mn\u001b[0m\u001b[1;33m\u001b[0m\u001b[1;33m\u001b[0m\u001b[0m\n\u001b[0m\u001b[0;32m      6\u001b[0m     \u001b[0mci\u001b[0m \u001b[1;33m=\u001b[0m \u001b[0ma\u001b[0m\u001b[1;33m-\u001b[0m\u001b[0mp\u001b[0m\u001b[1;33m\u001b[0m\u001b[1;33m\u001b[0m\u001b[0m\n\u001b[0;32m      7\u001b[0m     \u001b[0mprint\u001b[0m\u001b[1;33m(\u001b[0m\u001b[1;34m\"compound interest is\"\u001b[0m\u001b[1;33m,\u001b[0m\u001b[0mci\u001b[0m\u001b[1;33m)\u001b[0m\u001b[1;33m\u001b[0m\u001b[1;33m\u001b[0m\u001b[0m\n",
      "\u001b[1;31mTypeError\u001b[0m: 'int' object is not callable"
     ]
    }
   ],
   "source": [
    "p = 1200s\n",
    "r = 5.4\n",
    "n = 2\n",
    "def c_i(p,r,n):\n",
    "    a = p(1+(r/100))**n\n",
    "    ci = a-p\n",
    "    print(\"compound interest is\",ci)\n",
    "c_i(p,r,n)"
   ]
  },
  {
   "cell_type": "code",
   "execution_count": 21,
   "id": "35264747",
   "metadata": {},
   "outputs": [
    {
     "name": "stdout",
     "output_type": "stream",
     "text": [
      "enter a number5\n"
     ]
    },
    {
     "data": {
      "text/plain": [
       "120"
      ]
     },
     "execution_count": 21,
     "metadata": {},
     "output_type": "execute_result"
    }
   ],
   "source": [
    "def fact(n):\n",
    "    if n == 0:\n",
    "        return 1\n",
    "    else:\n",
    "        return fact(n-1)*n\n",
    "n = int(input(\"enter a number\"))\n",
    "fact(n)"
   ]
  },
  {
   "cell_type": "code",
   "execution_count": 7,
   "id": "5f83793d",
   "metadata": {},
   "outputs": [
    {
     "name": "stdout",
     "output_type": "stream",
     "text": [
      "enter a number6\n",
      "6 is not a prime number\n"
     ]
    }
   ],
   "source": [
    "num = int(input(\"enter a number\"))\n",
    "if num > 1:\n",
    "    for i in range(2,num):\n",
    "        if (num%i) == 0:\n",
    "            print(num,\"is not a prime number\")\n",
    "            break\n",
    "    else:\n",
    "        print(num,\"is a prime number\")"
   ]
  }
 ],
 "metadata": {
  "kernelspec": {
   "display_name": "Python 3 (ipykernel)",
   "language": "python",
   "name": "python3"
  },
  "language_info": {
   "codemirror_mode": {
    "name": "ipython",
    "version": 3
   },
   "file_extension": ".py",
   "mimetype": "text/x-python",
   "name": "python",
   "nbconvert_exporter": "python",
   "pygments_lexer": "ipython3",
   "version": "3.9.13"
  }
 },
 "nbformat": 4,
 "nbformat_minor": 5
}
