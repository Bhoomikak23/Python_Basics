{
 "cells": [
  {
   "cell_type": "code",
   "execution_count": 5,
   "id": "1b5a8bd4",
   "metadata": {},
   "outputs": [
    {
     "name": "stdout",
     "output_type": "stream",
     "text": [
      "enter the stack size5\n",
      "enter the elements1\n",
      "enter the elements2\n",
      "enter the elements3\n",
      "enter the elements4\n",
      "enter the elements5\n",
      "1.push\n",
      "2.pop\n",
      "enter your choice2\n",
      "enter how many elements to push or pop2\n",
      "5\n",
      "4\n",
      "[1, 2, 3]\n"
     ]
    }
   ],
   "source": [
    "def push(stack,item):\n",
    "    stack.append(item)\n",
    "def pop(stack):\n",
    "    print(stack.pop(-1))\n",
    "\n",
    "n = int(input(\"enter the stack size\"))\n",
    "stack = [0]*n\n",
    "for i in range(n):\n",
    "    stack[i] = int(input(\"enter the elements\"))\n",
    "print(\"1.push\\n2.pop\")\n",
    "choice = int(input(\"enter your choice\"))\n",
    "k = int(input(\"enter how many elements to push or pop\"))\n",
    "for i in range(k):\n",
    "    if choice == 1:\n",
    "        item = int(input(\"enter item to push\"))\n",
    "        push(stack,item)\n",
    "    elif choice == 2:\n",
    "        pop(stack)\n",
    "    else:\n",
    "        print(\"invalid choice\")\n",
    "print(stack)"
   ]
  },
  {
   "cell_type": "code",
   "execution_count": null,
   "id": "ab8e5ab0",
   "metadata": {},
   "outputs": [],
   "source": []
  }
 ],
 "metadata": {
  "kernelspec": {
   "display_name": "Python 3 (ipykernel)",
   "language": "python",
   "name": "python3"
  },
  "language_info": {
   "codemirror_mode": {
    "name": "ipython",
    "version": 3
   },
   "file_extension": ".py",
   "mimetype": "text/x-python",
   "name": "python",
   "nbconvert_exporter": "python",
   "pygments_lexer": "ipython3",
   "version": "3.9.13"
  }
 },
 "nbformat": 4,
 "nbformat_minor": 5
}
