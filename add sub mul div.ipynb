{
 "cells": [
  {
   "cell_type": "code",
   "execution_count": 9,
   "id": "91d56cba",
   "metadata": {},
   "outputs": [
    {
     "name": "stdout",
     "output_type": "stream",
     "text": [
      "8\n"
     ]
    }
   ],
   "source": [
    "def add(a,b):\n",
    "    print(a+b)\n",
    "add(3,5)"
   ]
  },
  {
   "cell_type": "code",
   "execution_count": 15,
   "id": "61984adf",
   "metadata": {},
   "outputs": [
    {
     "name": "stdout",
     "output_type": "stream",
     "text": [
      "67\n",
      "56\n",
      "11\n"
     ]
    }
   ],
   "source": [
    "def add(a,b):\n",
    "    print(a+b)\n",
    "    print(a)\n",
    "    print(b)\n",
    "a = 56\n",
    "b = 11\n",
    "add(a,b)"
   ]
  },
  {
   "cell_type": "code",
   "execution_count": 17,
   "id": "64a386b1",
   "metadata": {},
   "outputs": [
    {
     "name": "stdout",
     "output_type": "stream",
     "text": [
      "28\n"
     ]
    }
   ],
   "source": [
    "a =  4\n",
    "b = 7\n",
    "def mul(a,b):\n",
    "    print(a*b)\n",
    "mul(a,b)"
   ]
  },
  {
   "cell_type": "code",
   "execution_count": 20,
   "id": "512a5742",
   "metadata": {},
   "outputs": [
    {
     "name": "stdout",
     "output_type": "stream",
     "text": [
      "2.0\n"
     ]
    }
   ],
   "source": [
    "a = 56\n",
    "b = 11\n",
    "def div(a,b):\n",
    "    print(a/b)\n",
    "div(4,2)"
   ]
  },
  {
   "cell_type": "code",
   "execution_count": 21,
   "id": "aa1bf212",
   "metadata": {},
   "outputs": [
    {
     "data": {
      "text/plain": [
       "33"
      ]
     },
     "execution_count": 21,
     "metadata": {},
     "output_type": "execute_result"
    }
   ],
   "source": [
    "a = 67\n",
    "b = 34\n",
    "def sub(a,b):\n",
    "    return a-b\n",
    "sub(a,b)\n"
   ]
  },
  {
   "cell_type": "code",
   "execution_count": 23,
   "id": "7e306c53",
   "metadata": {},
   "outputs": [],
   "source": [
    "var1 = sub(78,45)"
   ]
  },
  {
   "cell_type": "code",
   "execution_count": 26,
   "id": "616ba3c6",
   "metadata": {},
   "outputs": [
    {
     "name": "stdout",
     "output_type": "stream",
     "text": [
      "5.0\n"
     ]
    }
   ],
   "source": [
    "var2 = div(10,2)"
   ]
  },
  {
   "cell_type": "code",
   "execution_count": 41,
   "id": "91a8bdfc",
   "metadata": {},
   "outputs": [
    {
     "name": "stdout",
     "output_type": "stream",
     "text": [
      "1.add\n",
      "2.sub\n",
      "3.mul\n",
      "4.div\n",
      "enter your choice4\n",
      "enter a numbe:5\n",
      "enter a number5\n",
      "1.0\n"
     ]
    }
   ],
   "source": [
    "\n",
    "print(\"1.add\\n2.sub\\n3.mul\\n4.div\")\n",
    "choice = int(input(\"enter your choice\"))\n",
    "a = int(input(\"enter a numbe:\"))\n",
    "b = int(input(\"enter a number\"))\n",
    "if choice == 1:\n",
    "    def add(a,b):\n",
    "        print(a+b)\n",
    "    add(a,b)\n",
    "elif choice == 2:\n",
    "    def sub(a,b):\n",
    "        print(a-b)\n",
    "    sub(a,b)\n",
    "elif choice == 3:\n",
    "    def mul(a,b):\n",
    "        print(a*b)\n",
    "    mul(a,b)\n",
    "elif choice == 4:\n",
    "    def div(a,b):\n",
    "        print(a/b)\n",
    "    div(a,b)\n",
    "else:\n",
    "    pass"
   ]
  },
  {
   "cell_type": "code",
   "execution_count": 44,
   "id": "a76d2c7b",
   "metadata": {},
   "outputs": [
    {
     "name": "stdout",
     "output_type": "stream",
     "text": [
      "enter a number4\n",
      "prime\n"
     ]
    }
   ],
   "source": [
    "a = int(input(\"enter a number\"))\n",
    "if a % 1 == 0 and a % a == 0:\n",
    "    print(\"prime\")"
   ]
  }
 ],
 "metadata": {
  "kernelspec": {
   "display_name": "Python 3 (ipykernel)",
   "language": "python",
   "name": "python3"
  },
  "language_info": {
   "codemirror_mode": {
    "name": "ipython",
    "version": 3
   },
   "file_extension": ".py",
   "mimetype": "text/x-python",
   "name": "python",
   "nbconvert_exporter": "python",
   "pygments_lexer": "ipython3",
   "version": "3.9.13"
  }
 },
 "nbformat": 4,
 "nbformat_minor": 5
}
