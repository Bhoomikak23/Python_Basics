{
 "cells": [
  {
   "cell_type": "code",
   "execution_count": 25,
   "id": "6259a609",
   "metadata": {},
   "outputs": [
    {
     "name": "stdout",
     "output_type": "stream",
     "text": [
      "p\n",
      "y\n",
      "t\n",
      "h\n",
      "o\n",
      "n\n",
      "over\n"
     ]
    }
   ],
   "source": [
    "try:\n",
    "    string = \"python\"\n",
    "    for i in string:\n",
    "        if (i!=o):\n",
    "            print(i)\n",
    "except:\n",
    "    print(\"error\")\n",
    "finally:\n",
    "    print(\"over\")"
   ]
  },
  {
   "cell_type": "code",
   "execution_count": 18,
   "id": "c9c7bb5c",
   "metadata": {},
   "outputs": [
    {
     "name": "stdout",
     "output_type": "stream",
     "text": [
      "{'name': 'bhoomika', 'class': 10, 'schl': 'jnv'}\n",
      "over\n"
     ]
    }
   ],
   "source": [
    "try :\n",
    "    a = {\"name\" : \"bhoomika\",\n",
    "      \"class\" : 10,\n",
    "        schl:\"jnv\"}\n",
    "    print(a)\n",
    "except NameError:\n",
    "    print(\"error\")\n",
    "finally:\n",
    "    print(\"over\")"
   ]
  },
  {
   "cell_type": "code",
   "execution_count": 19,
   "id": "a3b750a4",
   "metadata": {},
   "outputs": [
    {
     "name": "stdout",
     "output_type": "stream",
     "text": [
      "integer can not be divided by letter\n",
      "over\n"
     ]
    }
   ],
   "source": [
    "try:\n",
    "    a =20\n",
    "    b = \"b\"\n",
    "    c = a/b\n",
    "    prin\n",
    "    t(c)\n",
    "except:\n",
    "    print(\"integer can not be divided by letter\")\n",
    "finally:\n",
    "    print(\"over\")"
   ]
  },
  {
   "cell_type": "code",
   "execution_count": 25,
   "id": "bd5ea2c4",
   "metadata": {},
   "outputs": [
    {
     "name": "stdout",
     "output_type": "stream",
     "text": [
      "error\n"
     ]
    }
   ],
   "source": [
    "try:\n",
    "    text = open(\"mypoem\",\"r\")\n",
    "    text.write(\"aaa\")\n",
    "except IOError:\n",
    "    print(\"error\")\n",
    "else:\n",
    "    print(\"text is finally written \")"
   ]
  },
  {
   "cell_type": "code",
   "execution_count": 5,
   "id": "e3915583",
   "metadata": {},
   "outputs": [
    {
     "name": "stdout",
     "output_type": "stream",
     "text": [
      "enter a number10\n",
      "10 is within the allowed range\n"
     ]
    }
   ],
   "source": [
    "    try:\n",
    "        x = int(input(\"enter a number\"))\n",
    "        if x>10:\n",
    "            raise ValueError(x)\n",
    "    except ValueError:\n",
    "        print(x,\"is out of allowed range\")\n",
    "    else:\n",
    "        print(x,\"is within the allowed range\")"
   ]
  },
  {
   "cell_type": "code",
   "execution_count": 8,
   "id": "9ca09941",
   "metadata": {},
   "outputs": [
    {
     "name": "stdout",
     "output_type": "stream",
     "text": [
      "enter a number10\n",
      "enter a number0\n",
      "divide by zero\n"
     ]
    }
   ],
   "source": [
    "try:\n",
    "    a = int(input(\"enter a number\"))\n",
    "    b = int(input(\"enter a number\"))\n",
    "    c = a/b\n",
    "except ZeroDivisionError:\n",
    "    print(\"divide by zero\")\n",
    "else:\n",
    "    print(c)"
   ]
  },
  {
   "cell_type": "code",
   "execution_count": 29,
   "id": "ca295356",
   "metadata": {},
   "outputs": [
    {
     "name": "stdout",
     "output_type": "stream",
     "text": [
      "enter a numbera\n",
      "input is letter\n"
     ]
    }
   ],
   "source": [
    "try:\n",
    "    a = int(input(\"enter a number\"))\n",
    "except:\n",
    "    print(\"input is letter\")\n",
    "else:\n",
    "    print(\"input is number\")"
   ]
  },
  {
   "cell_type": "code",
   "execution_count": 32,
   "id": "8cede61b",
   "metadata": {},
   "outputs": [
    {
     "name": "stdout",
     "output_type": "stream",
     "text": [
      "enter a number10\n",
      "enter a numberv\n",
      "error\n"
     ]
    }
   ],
   "source": [
    "try: \n",
    "    a = int(input(\"enter a number\"))\n",
    "    b = int(input(\"enter a number\"))\n",
    "    c = a + b\n",
    "except ValueError:\n",
    "    print(\"error\")\n",
    "else:\n",
    "    print(c)\n"
   ]
  },
  {
   "cell_type": "code",
   "execution_count": 9,
   "id": "5b8f57c9",
   "metadata": {},
   "outputs": [
    {
     "name": "stdout",
     "output_type": "stream",
     "text": [
      "1.add\n",
      "2.sub\n",
      "3.mul\n",
      "4.div\n",
      "enter your choice4\n",
      "enter a number10\n",
      "enter a number0\n",
      "divide by zero\n"
     ]
    }
   ],
   "source": [
    "### a = int(input(\"enter a number\"))\n",
    "#b = int(input(\"enter a number\"))\n",
    "choice = print(\"1.add\\n2.sub\\n3.mul\\n4.div\")\n",
    "choice = int(input(\"enter your choice\"))\n",
    "if choice == 1:\n",
    "    try:\n",
    "        a = int(input(\"enter a number\"))\n",
    "        b = int(input(\"enter a number\"))\n",
    "        c = a+b\n",
    "    except ValueError:\n",
    "        print(\"error\")\n",
    "    else:\n",
    "        print(c)\n",
    "\n",
    "if choice == 2:\n",
    "    try:\n",
    "        a = int(input(\"enter a number\"))\n",
    "        b = int(input(\"enter a number\"))\n",
    "        c = a-b\n",
    "    except:\n",
    "        print(\"error\")\n",
    "    else:\n",
    "        print(c)\n",
    "\n",
    "if choice == 3:\n",
    "    try:\n",
    "        a = int(input(\"enter a number\"))\n",
    "        b = int(input(\"enter a number\"))\n",
    "        c = a*b\n",
    "    except:\n",
    "        print(\"error\")\n",
    "    else:\n",
    "        print(c)\n",
    "\n",
    "if choice == 4:\n",
    "    try:\n",
    "        a = int(input(\"enter a number\"))\n",
    "        b = int(input(\"enter a number\"))\n",
    "        c = a/b\n",
    "    except ZeroDivisionError:\n",
    "        print(\"divided by zero\")\n",
    "    except ValueError:\n",
    "        print(\"can not be divide\")\n",
    "    else:\n",
    "        print(c)\n",
    "\n",
    "        \n",
    "else:\n",
    "    print(\"invalid choice\")"
   ]
  },
  {
   "cell_type": "code",
   "execution_count": 2,
   "id": "16993d00",
   "metadata": {},
   "outputs": [
    {
     "name": "stdout",
     "output_type": "stream",
     "text": [
      "1.add\n",
      "2.sub\n",
      "3.mul\n",
      "4.div\n",
      "enter your choice4\n",
      "enter a number1\n",
      "enter a number0\n",
      "divided by zero\n"
     ]
    }
   ],
   "source": [
    "print(\"1.add\\n2.sub\\n3.mul\\n4.div\")\n",
    "choice = int(input(\"enter your choice\"))\n",
    "try:\n",
    "    a = int(input(\"enter a number\"))\n",
    "    b = int(input(\"enter a number\"))\n",
    "    if choice == 1:\n",
    "        c = a+b\n",
    "    elif choice == 2:\n",
    "        c = a-b\n",
    "    elif choice == 3:\n",
    "        c = a*b\n",
    "    elif choice == 4:\n",
    "        c = a/b\n",
    "except ZeroDivisionError:\n",
    "    print(\"divided by zero\")\n",
    "except ValueError:\n",
    "    print(\"error\")\n",
    "else:\n",
    "    print(c)"
   ]
  }
 ],
 "metadata": {
  "kernelspec": {
   "display_name": "Python 3 (ipykernel)",
   "language": "python",
   "name": "python3"
  },
  "language_info": {
   "codemirror_mode": {
    "name": "ipython",
    "version": 3
   },
   "file_extension": ".py",
   "mimetype": "text/x-python",
   "name": "python",
   "nbconvert_exporter": "python",
   "pygments_lexer": "ipython3",
   "version": "3.9.13"
  }
 },
 "nbformat": 4,
 "nbformat_minor": 5
}
