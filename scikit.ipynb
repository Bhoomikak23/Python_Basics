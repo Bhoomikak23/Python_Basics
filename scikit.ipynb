{
 "cells": [
  {
   "cell_type": "markdown",
   "id": "180e12e9",
   "metadata": {},
   "source": [
    "# scikit-learn"
   ]
  },
  {
   "cell_type": "markdown",
   "id": "9458d518",
   "metadata": {},
   "source": [
    "# steps to build a model in scikit-learn\n",
    "1.import the model\n",
    "\n",
    "2.prepare the data set\n",
    "\n",
    "3.separate the independent and target variables\n",
    "\n",
    "4.create an object of the model\n",
    "\n",
    "5.fit the model with the data\n",
    "\n",
    "6.use the "
   ]
  },
  {
   "cell_type": "code",
   "execution_count": null,
   "id": "ecd73ee2",
   "metadata": {},
   "outputs": [],
   "source": []
  }
 ],
 "metadata": {
  "kernelspec": {
   "display_name": "Python 3 (ipykernel)",
   "language": "python",
   "name": "python3"
  },
  "language_info": {
   "codemirror_mode": {
    "name": "ipython",
    "version": 3
   },
   "file_extension": ".py",
   "mimetype": "text/x-python",
   "name": "python",
   "nbconvert_exporter": "python",
   "pygments_lexer": "ipython3",
   "version": "3.9.13"
  }
 },
 "nbformat": 4,
 "nbformat_minor": 5
}
