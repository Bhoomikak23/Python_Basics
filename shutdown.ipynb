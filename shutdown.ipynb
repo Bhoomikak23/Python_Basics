{
 "cells": [
  {
   "cell_type": "markdown",
   "id": "5313d95c",
   "metadata": {},
   "source": [
    "pip install PyAutoGUI"
   ]
  },
  {
   "cell_type": "code",
   "execution_count": 5,
   "id": "a7e2301f",
   "metadata": {
    "collapsed": true
   },
   "outputs": [],
   "source": [
    "import random \n",
    "import pyautogui as pg\n",
    "import time\n",
    "\n",
    "animal = ('monkey','donkey')\n",
    "\n",
    "time.sleep(2)\n",
    "\n",
    "for i in range (5):\n",
    "    a = random.choice(animal)\n",
    "    pg.write(\"you are a \"+a)\n",
    "    pg.press('esu')"
   ]
  },
  {
   "cell_type": "code",
   "execution_count": 2,
   "id": "633d7b7a",
   "metadata": {},
   "outputs": [],
   "source": [
    "a = open(\"test.txt\",'w')"
   ]
  },
  {
   "cell_type": "code",
   "execution_count": 3,
   "id": "7343eb1a",
   "metadata": {},
   "outputs": [
    {
     "name": "stdout",
     "output_type": "stream",
     "text": [
      "name of the file train.txt\n",
      "closed or not False\n",
      "opening mode wb\n"
     ]
    }
   ],
   "source": [
    "file = open(\"train.txt\",\"wb\")\n",
    "print(\"name of the file\",file.name)\n",
    "print(\"closed or not\",file.closed)\n",
    "print(\"opening mode\",file.mode)"
   ]
  },
  {
   "cell_type": "code",
   "execution_count": 6,
   "id": "76ee5c74",
   "metadata": {},
   "outputs": [],
   "source": [
    "fo = open(\"train1.txt\",\"w\")\n",
    "fo.write(\"python is a great\")\n",
    "fo.close()"
   ]
  }
 ],
 "metadata": {
  "kernelspec": {
   "display_name": "Python 3 (ipykernel)",
   "language": "python",
   "name": "python3"
  },
  "language_info": {
   "codemirror_mode": {
    "name": "ipython",
    "version": 3
   },
   "file_extension": ".py",
   "mimetype": "text/x-python",
   "name": "python",
   "nbconvert_exporter": "python",
   "pygments_lexer": "ipython3",
   "version": "3.9.13"
  }
 },
 "nbformat": 4,
 "nbformat_minor": 5
}
