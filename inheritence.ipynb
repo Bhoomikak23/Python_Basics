{
 "cells": [
  {
   "cell_type": "markdown",
   "id": "b603a82c",
   "metadata": {},
   "source": [
    "# inheritance"
   ]
  },
  {
   "cell_type": "code",
   "execution_count": null,
   "id": "cdacd99a",
   "metadata": {},
   "outputs": [],
   "source": [
    "single inheritance"
   ]
  },
  {
   "cell_type": "code",
   "execution_count": 5,
   "id": "2bfbf6f6",
   "metadata": {},
   "outputs": [
    {
     "name": "stdout",
     "output_type": "stream",
     "text": [
      "venu is a bad boy\n",
      "bhooma is a good girl\n"
     ]
    }
   ],
   "source": [
    "class A:\n",
    "    \n",
    "    def f1(self):\n",
    "        print(\"venu is a bad boy\")\n",
    "    def f2(self):\n",
    "        print(\"bhooma is a good girl\")\n",
    "        \n",
    "s = A()\n",
    "s.f1()\n",
    "s.f2()"
   ]
  },
  {
   "cell_type": "code",
   "execution_count": 7,
   "id": "5d4514cd",
   "metadata": {},
   "outputs": [
    {
     "name": "stdout",
     "output_type": "stream",
     "text": [
      "f1 is working\n",
      "f2 is working\n",
      "f3 is working\n",
      "f4 is working\n"
     ]
    }
   ],
   "source": [
    "class A:\n",
    "    def f1(self):\n",
    "        print(\"f1 is working\")\n",
    "    def f2(self):\n",
    "        print(\"f2 is working\")\n",
    "class B(A):\n",
    "    def f3(self):\n",
    "        print(\"f3 is working\")\n",
    "    def f4(self):\n",
    "        print(\"f4 is working\")\n",
    "        \n",
    "s = B()\n",
    "s.f1()\n",
    "s.f2()\n",
    "s.f3()\n",
    "s.f4()"
   ]
  },
  {
   "cell_type": "code",
   "execution_count": 10,
   "id": "007b5c62",
   "metadata": {},
   "outputs": [
    {
     "name": "stdout",
     "output_type": "stream",
     "text": [
      "f1 is working\n",
      "f2 is working\n",
      "f3 is working\n",
      "f4 is working\n",
      "f5 is working\n"
     ]
    }
   ],
   "source": [
    "#multi level inheritance \n",
    "class A:\n",
    "    def f1(self):\n",
    "        print(\"f1 is working\")\n",
    "    def f2(self):\n",
    "        print(\"f2 is working\")\n",
    "        \n",
    "        \n",
    "class B(A):\n",
    "    def f3(self):\n",
    "        print(\"f3 is working\")\n",
    "    def f4(self):\n",
    "        print(\"f4 is working\")\n",
    "        \n",
    "        \n",
    "class C(B):\n",
    "    def f5(self):\n",
    "        print(\"f5 is working\")\n",
    "        \n",
    "        \n",
    "s = C()\n",
    "\n",
    "s.f1()\n",
    "s.f2()\n",
    "s.f3()\n",
    "s.f4()\n",
    "s.f5()"
   ]
  },
  {
   "cell_type": "code",
   "execution_count": 13,
   "id": "056fd7fd",
   "metadata": {},
   "outputs": [
    {
     "name": "stdout",
     "output_type": "stream",
     "text": [
      "in A init\n",
      "in B init\n",
      "in C init\n"
     ]
    }
   ],
   "source": [
    "class A:\n",
    "    def __init__(self):\n",
    "        print(\"in A init\")\n",
    "    def f1(self):\n",
    "        print(\"f1 is working\")\n",
    "    def f2(self):\n",
    "        print(\"f2 is working\")\n",
    "        \n",
    "        \n",
    "class B(A):\n",
    "    def __init__(self):\n",
    "        super().__init__()\n",
    "        print(\"in B init\")\n",
    "    def f3(self):\n",
    "        print(\"f3 is working\")\n",
    "    def f4(self):\n",
    "        print(\"f4 is working\")\n",
    "        \n",
    "        \n",
    "class C(B):\n",
    "    def __init__(self):\n",
    "        super().__init__()\n",
    "        print(\"in C init\")\n",
    "    def f5(self):\n",
    "        print(\"f5 is working\")\n",
    "        \n",
    "        \n",
    "s = C()"
   ]
  },
  {
   "cell_type": "code",
   "execution_count": 19,
   "id": "eac56d57",
   "metadata": {},
   "outputs": [
    {
     "name": "stdout",
     "output_type": "stream",
     "text": [
      "in A init\n",
      "in C init\n"
     ]
    }
   ],
   "source": [
    "class A:\n",
    "    def __init__(self):\n",
    "        print(\"in A init\")\n",
    "    def f1(self):\n",
    "        print(\"f1 is working\")\n",
    "    def f2(self):\n",
    "        print(\"f2 is working\")\n",
    "        \n",
    "        \n",
    "class B:\n",
    "    def __init__(self):\n",
    "        \n",
    "        print(\"in B init\")\n",
    "    def f3(self):\n",
    "        print(\"f3 is working\")\n",
    "    def f4(self):\n",
    "        print(\"f4 is working\")\n",
    "        \n",
    "        \n",
    "class C(A,B):\n",
    "    def __init__(self):\n",
    "        super().__init__()\n",
    "        print(\"in C init\")\n",
    "    def f5(self):\n",
    "        print(\"f5 is working\")\n",
    "        \n",
    "        \n",
    "s = C()"
   ]
  }
 ],
 "metadata": {
  "kernelspec": {
   "display_name": "Python 3 (ipykernel)",
   "language": "python",
   "name": "python3"
  },
  "language_info": {
   "codemirror_mode": {
    "name": "ipython",
    "version": 3
   },
   "file_extension": ".py",
   "mimetype": "text/x-python",
   "name": "python",
   "nbconvert_exporter": "python",
   "pygments_lexer": "ipython3",
   "version": "3.9.13"
  }
 },
 "nbformat": 4,
 "nbformat_minor": 5
}
