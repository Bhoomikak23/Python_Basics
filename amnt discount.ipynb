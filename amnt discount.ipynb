{
 "cells": [
  {
   "cell_type": "code",
   "execution_count": 11,
   "id": "428702df",
   "metadata": {},
   "outputs": [
    {
     "name": "stdout",
     "output_type": "stream",
     "text": [
      "no\n"
     ]
    }
   ],
   "source": [
    "a=str(input(\"enter a string  \"))\n",
    "vwls=\"a\",\"e\",\"i\",\"o\",\"u\"\n",
    "if a in vwls:\n",
    "    print(\"yes\")\n",
    "else:\n",
    "    print(\"no\")"
   ]
  },
  {
   "cell_type": "code",
   "execution_count": 8,
   "id": "3821ccff",
   "metadata": {
    "scrolled": true
   },
   "outputs": [
    {
     "name": "stdout",
     "output_type": "stream",
     "text": [
      "1.hp\n",
      "2.dell\n",
      "3.lnv\n",
      "4.asus\n",
      "which laptop u want?  2\n",
      "dell\n"
     ]
    }
   ],
   "source": [
    "print(\"1.hp\\n2.dell\\n3.lnv\\n4.asus\")\n",
    "user_input = int(input(\"which laptop u want?  \"))\n",
    "if user_input == 1:\n",
    "    print(\"hp\")\n",
    "elif user_input == 2:\n",
    "    print(\"dell\")\n",
    "elif user_input == 3:\n",
    "    print(\"lnv\")\n",
    "elif user_input == 4:\n",
    "    print(\"asus\")\n",
    "else:\n",
    "    print(\"no\")"
   ]
  },
  {
   "cell_type": "code",
   "execution_count": null,
   "id": "187b4d5d",
   "metadata": {},
   "outputs": [],
   "source": [
    "customer = str(input(\"enter your choice\"))\n",
    "shop_k = (\"1.hp\\n2.dell\\n3.lnv\\n4.asus\")\n",
    "customer = int(input(\"select\"))\n",
    "\n",
    "if customer == 1:\n",
    "    print(\"laptop is hp\")\n",
    "    amount = int(input(\"the amount is:\"))\n",
    "    dis = amount *0.05\n",
    "    print(dis)\n",
    "elif customer == 2:\n",
    "    print(\"laptop is dell:\")\n",
    "    amount = int(input(\"the amount is:\"))\n",
    "    dis = amount *0.05\n",
    "    print(dis)\n",
    "elif customer == 3:\n",
    "    print(\"laptop is lnv\")\n",
    "    amount = int(input(\"the amount is:\"))\n",
    "    dis = amount*0.05\n",
    "    print(dis)\n",
    "elif customer == 4:\n",
    "    print(\"the laptop is:\")\n",
    "    amount =  int(input(\"the amount is:\"))\n",
    "    dis = amount*0.05\n",
    "    print(dis)\n",
    "else:\n",
    "    print(\"invalid\")\n",
    "    \n",
    "print(amount-dis)\n",
    "    "
   ]
  },
  {
   "cell_type": "code",
   "execution_count": null,
   "id": "2f899369",
   "metadata": {},
   "outputs": [],
   "source": []
  }
 ],
 "metadata": {
  "kernelspec": {
   "display_name": "Python 3 (ipykernel)",
   "language": "python",
   "name": "python3"
  },
  "language_info": {
   "codemirror_mode": {
    "name": "ipython",
    "version": 3
   },
   "file_extension": ".py",
   "mimetype": "text/x-python",
   "name": "python",
   "nbconvert_exporter": "python",
   "pygments_lexer": "ipython3",
   "version": "3.9.13"
  }
 },
 "nbformat": 4,
 "nbformat_minor": 5
}
