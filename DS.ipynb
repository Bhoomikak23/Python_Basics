{
 "cells": [
  {
   "cell_type": "code",
   "execution_count": null,
   "id": "d0a20c8c",
   "metadata": {},
   "outputs": [],
   "source": [
    "lists = ['bio','chem',1947,2000]"
   ]
  },
  {
   "cell_type": "markdown",
   "id": "95f3700a",
   "metadata": {},
   "source": [
    "# 1.accessing values"
   ]
  },
  {
   "cell_type": "markdown",
   "id": "d6029d5c",
   "metadata": {},
   "source": [
    "# 2.updating values"
   ]
  },
  {
   "cell_type": "markdown",
   "id": "5e302ea4",
   "metadata": {},
   "source": [
    "# 3.deleting list element"
   ]
  },
  {
   "cell_type": "markdown",
   "id": "d3556e2c",
   "metadata": {},
   "source": [
    "# list"
   ]
  },
  {
   "cell_type": "code",
   "execution_count": null,
   "id": "f6609e03",
   "metadata": {
    "scrolled": true
   },
   "outputs": [],
   "source": [
    "print(lists)"
   ]
  },
  {
   "cell_type": "code",
   "execution_count": null,
   "id": "38860e32",
   "metadata": {},
   "outputs": [],
   "source": [
    "print(lists[3])\n",
    "lists[3]=1000\n",
    "print(lists)"
   ]
  },
  {
   "cell_type": "code",
   "execution_count": null,
   "id": "55db2f30",
   "metadata": {
    "scrolled": true
   },
   "outputs": [],
   "source": [
    "lists.remove('bio')\n",
    "print(lists)"
   ]
  },
  {
   "cell_type": "markdown",
   "id": "faba5489",
   "metadata": {},
   "source": [
    "# tuple"
   ]
  },
  {
   "cell_type": "code",
   "execution_count": null,
   "id": "03f0bbba",
   "metadata": {},
   "outputs": [],
   "source": [
    "tuple=('bio','chem',2000)\n",
    "print(tuple)"
   ]
  },
  {
   "cell_type": "code",
   "execution_count": null,
   "id": "95359bbb",
   "metadata": {},
   "outputs": [],
   "source": [
    "tuple1=('phy','ade',4000)\n",
    "print(tuple1)"
   ]
  },
  {
   "cell_type": "code",
   "execution_count": null,
   "id": "8e68cd74",
   "metadata": {
    "scrolled": true
   },
   "outputs": [],
   "source": [
    "print(tuple+tuple1)"
   ]
  },
  {
   "cell_type": "code",
   "execution_count": null,
   "id": "1729d6f3",
   "metadata": {},
   "outputs": [],
   "source": [
    "\n",
    "print(tuple1)"
   ]
  },
  {
   "cell_type": "markdown",
   "id": "b21ee75a",
   "metadata": {},
   "source": [
    "# Dict"
   ]
  },
  {
   "cell_type": "code",
   "execution_count": null,
   "id": "9857a923",
   "metadata": {},
   "outputs": [],
   "source": [
    "dic={1:'bio',\n",
    "     2:'chem',\n",
    "     3:'phy',\n",
    "     4:3000\n",
    "    }\n",
    "for i in dic.items():\n",
    "    print(i)\n",
    "for i in dic.keys():\n",
    "    print(i)\n",
    "for i in dic.values():\n",
    "    print(i)"
   ]
  },
  {
   "cell_type": "code",
   "execution_count": null,
   "id": "d23256ad",
   "metadata": {},
   "outputs": [],
   "source": [
    "print(dic[2])\n",
    "dic[2]=3000\n",
    "print(dic)"
   ]
  },
  {
   "cell_type": "code",
   "execution_count": null,
   "id": "4e3d2de2",
   "metadata": {},
   "outputs": [],
   "source": [
    "dic.clear()\n",
    "print(dic)"
   ]
  },
  {
   "cell_type": "markdown",
   "id": "5f46060f",
   "metadata": {},
   "source": [
    "# Array"
   ]
  },
  {
   "cell_type": "code",
   "execution_count": null,
   "id": "6b330df7",
   "metadata": {},
   "outputs": [],
   "source": [
    "from array import *"
   ]
  },
  {
   "cell_type": "code",
   "execution_count": null,
   "id": "8ee64c28",
   "metadata": {},
   "outputs": [],
   "source": [
    "a = [[1,2,3,4],\n",
    "     [5,6,7,8]]\n",
    "print(a[1][3])"
   ]
  },
  {
   "cell_type": "code",
   "execution_count": null,
   "id": "38043154",
   "metadata": {},
   "outputs": [],
   "source": [
    "a = [[1,2,3],\n",
    "    [4,5,6],\n",
    "    [7,8,9]]\n",
    "print(a[2][1])"
   ]
  },
  {
   "cell_type": "code",
   "execution_count": null,
   "id": "79cdae4b",
   "metadata": {},
   "outputs": [],
   "source": [
    "#accessing\n",
    "a = [[11,12,5,2],\n",
    "    [15,6,6],\n",
    "    [10,8,12,5],\n",
    "    [12,15,8,6]]\n",
    "print(a[1][3])"
   ]
  },
  {
   "cell_type": "code",
   "execution_count": null,
   "id": "ae3dd6fe",
   "metadata": {},
   "outputs": [],
   "source": [
    "a = [[11,12,5,2],\n",
    "    [15,6,6],\n",
    "    [10,8,12,5],\n",
    "    [12,15,8,6]]\n",
    "for r in a:\n",
    "    for c in r:\n",
    "        print(c,end=\" \")\n",
    "    print()"
   ]
  },
  {
   "cell_type": "code",
   "execution_count": null,
   "id": "e4a00f21",
   "metadata": {},
   "outputs": [],
   "source": [
    "#inserting value\n",
    "a.insert(2,[1,2,3,4])"
   ]
  },
  {
   "cell_type": "code",
   "execution_count": null,
   "id": "5c86a73c",
   "metadata": {},
   "outputs": [],
   "source": [
    "for r in a:\n",
    "    for c in r:\n",
    "        print(c,end=\" \")\n",
    "    print()"
   ]
  },
  {
   "cell_type": "code",
   "execution_count": null,
   "id": "d7f30aa9",
   "metadata": {},
   "outputs": [],
   "source": [
    "#updating values\n",
    "a[2] = [11,9]\n",
    "a[0][3] = 7\n",
    "for r in a:\n",
    "    for c in r:\n",
    "        print(c,end=\" \")\n",
    "    print()"
   ]
  },
  {
   "cell_type": "code",
   "execution_count": null,
   "id": "72e0e234",
   "metadata": {},
   "outputs": [],
   "source": [
    "#delete\n",
    "a.remove(a[2])\n",
    "for r in a:\n",
    "    for c in r:\n",
    "        print(c,end=\" \")\n",
    "    print()"
   ]
  },
  {
   "cell_type": "code",
   "execution_count": null,
   "id": "e53e3c6a",
   "metadata": {},
   "outputs": [],
   "source": [
    "del a[1]\n",
    "for r in a:\n",
    "    for c in r:\n",
    "        print(c,end=\" \")\n",
    "    print()"
   ]
  },
  {
   "cell_type": "code",
   "execution_count": null,
   "id": "4e13df92",
   "metadata": {},
   "outputs": [],
   "source": [
    "days = set(['mon',\n",
    "         'tue',\n",
    "         'wed',\n",
    "         'thur',\n",
    "         'fri',\n",
    "         'sat'])\n",
    "months = {'jan','feb','march','april'}\n",
    "dates = {1,12,13}\n",
    "for i in days:\n",
    "    print(i)"
   ]
  },
  {
   "cell_type": "code",
   "execution_count": null,
   "id": "388ffb74",
   "metadata": {},
   "outputs": [],
   "source": [
    "days.add('sun')\n",
    "for i in days:\n",
    "    print(i)"
   ]
  },
  {
   "cell_type": "code",
   "execution_count": null,
   "id": "ba416fe7",
   "metadata": {},
   "outputs": [],
   "source": [
    "days.discard('sun')\n",
    "for i in days:\n",
    "    print(i)"
   ]
  },
  {
   "cell_type": "code",
   "execution_count": null,
   "id": "1486763f",
   "metadata": {},
   "outputs": [],
   "source": [
    "#union\n",
    "daya = set(['mon','tue','wed'])\n",
    "dayb = set(['mon','tue','thur','fri'])\n",
    "daysu = daya | dayb\n",
    "print(daysu)"
   ]
  },
  {
   "cell_type": "code",
   "execution_count": null,
   "id": "b432588b",
   "metadata": {},
   "outputs": [],
   "source": [
    "#intersection\n",
    "daysi = daya & dayb\n",
    "print(daysi)"
   ]
  },
  {
   "cell_type": "code",
   "execution_count": null,
   "id": "794ad345",
   "metadata": {},
   "outputs": [],
   "source": [
    "#difference\n",
    "daysd = daya - dayb\n",
    "print(daysd)"
   ]
  },
  {
   "cell_type": "code",
   "execution_count": null,
   "id": "687547a8",
   "metadata": {},
   "outputs": [],
   "source": [
    "#comparission\n",
    "daysc = daya > dayb\n",
    "dayss = daya < dayb\n",
    "print(daysc)\n",
    "print(dayss)"
   ]
  },
  {
   "cell_type": "code",
   "execution_count": null,
   "id": "8e30ffa0",
   "metadata": {},
   "outputs": [],
   "source": [
    "daya = set(['mon','tue','wed'])\n",
    "dayb = set(['mon','tue','wed','thur','fri','sat','sun'])\n",
    "daysc = daya > dayb\n",
    "dayss = daya < dayb\n",
    "print(daysc)\n",
    "print(dayss)"
   ]
  },
  {
   "cell_type": "code",
   "execution_count": null,
   "id": "4188c6e8",
   "metadata": {},
   "outputs": [],
   "source": [
    "#algorithm for adding 2 numbers\n",
    "step1:start\n",
    "step2:variable declare a value 10\n",
    "step3:variable declare b value 20\n",
    "step4:variable declare c and add \n",
    "step5:store the value in c\n",
    "step6:print c\n",
    "step7:stop"
   ]
  },
  {
   "cell_type": "code",
   "execution_count": null,
   "id": "b8a80e30",
   "metadata": {},
   "outputs": [],
   "source": [
    "#algorithm for swaping 2 numbers\n",
    "a = 30\n",
    "b = 20\n",
    "temp=0\n",
    "temp=a\n",
    "a=b\n",
    "b=temp\n",
    "print(a)\n",
    "print(b)\n",
    "step1:start\n",
    "step2:3 variables (a,b,temp)\n",
    "step3:temp = a\n",
    "step4:a = b\n",
    "step5:b = temp\n",
    "step6:print(a)\n",
    "step7:print(b)"
   ]
  },
  {
   "cell_type": "code",
   "execution_count": null,
   "id": "8bc8d748",
   "metadata": {},
   "outputs": [],
   "source": [
    "#algorithm for swaping 2 numbers without using temp \n",
    "a = 30\n",
    "b = 20\n",
    "a = a+b-a\n",
    "b = a\n",
    "print(a)\n",
    "print(b)"
   ]
  },
  {
   "cell_type": "code",
   "execution_count": null,
   "id": "0d0cf9e5",
   "metadata": {},
   "outputs": [],
   "source": [
    "#max of 2 numbers\n",
    "a=5\n",
    "b=10\n",
    "if a > b:\n",
    "    print('a is max')\n",
    "else:\n",
    "    print('b is max')\n",
    "\n",
    "#step1:start\n",
    "#step2:variables a and b\n",
    "#step3:check if a is greater than b if true\n",
    "#step4:print a\n",
    "#step5:else\n",
    "#step6:print b\n",
    "#step7stop"
   ]
  },
  {
   "cell_type": "code",
   "execution_count": 2,
   "id": "94c8d012",
   "metadata": {},
   "outputs": [
    {
     "data": {
      "text/plain": [
       "10"
      ]
     },
     "execution_count": 2,
     "metadata": {},
     "output_type": "execute_result"
    }
   ],
   "source": [
    "#max of 2 numbers\n",
    "a=5\n",
    "b=10\n",
    "def max(a,b):\n",
    "    if (a>b):\n",
    "        return a\n",
    "    else:\n",
    "        return b\n",
    "max(a,b)\n",
    "#step1:start\n",
    "#step2:variables a and b\n",
    "#step3:call function max\n",
    "#step4:check  if a is max than b \n",
    "#step5:true means return a\n",
    "#step6:else return b\n",
    "#step7:call function\n",
    "#step8:stop"
   ]
  },
  {
   "cell_type": "markdown",
   "id": "7cf8a74f",
   "metadata": {},
   "source": [
    "# stack"
   ]
  },
  {
   "cell_type": "code",
   "execution_count": 3,
   "id": "0c3e4f2d",
   "metadata": {},
   "outputs": [
    {
     "name": "stdout",
     "output_type": "stream",
     "text": [
      "initial stack\n",
      "['a', 'b', 'c']\n",
      "popped\n",
      "c\n",
      "b\n",
      "a\n",
      "stack\n",
      "[]\n"
     ]
    }
   ],
   "source": [
    "stack = [ ]\n",
    "\n",
    "stack.append('a')\n",
    "stack.append('b')\n",
    "stack.append('c')\n",
    "print('initial stack')\n",
    "print(stack)\n",
    "\n",
    "print('popped')\n",
    "print(stack.pop())\n",
    "print(stack.pop())\n",
    "print(stack.pop())\n",
    "\n",
    "print('stack')\n",
    "print(stack)"
   ]
  },
  {
   "cell_type": "code",
   "execution_count": 6,
   "id": "865ba6d5",
   "metadata": {},
   "outputs": [
    {
     "name": "stdout",
     "output_type": "stream",
     "text": [
      "[3, 2, 1]\n",
      "1\n",
      "2\n",
      "3\n",
      "[]\n"
     ]
    }
   ],
   "source": [
    "queue = [ ]\n",
    "\n",
    "queue.insert(-1,1)\n",
    "queue.insert(-2,2)\n",
    "queue.insert(-3,3)\n",
    "print(queue)\n",
    "\n",
    "print(queue.pop(-1))\n",
    "print(queue.pop(-1))\n",
    "print(queue.pop(-1))\n",
    "print(queue)"
   ]
  },
  {
   "cell_type": "code",
   "execution_count": null,
   "id": "c9a9790f",
   "metadata": {},
   "outputs": [],
   "source": [
    "def push(stack,item):\n",
    "    stack.append(item)\n",
    "def pop(stack):\n",
    "    print(stack.pop(-1))\n",
    "\n",
    "n = int(input(\"enter the stack size\"))\n",
    "stack = [0]*n\n",
    "for i in range(n):\n",
    "    stack[i] = int(input(\"enter the elements\"))\n",
    "print(\"1.push\\n2.pop\")\n",
    "choice = int(input(\"enter your choice\"))\n",
    "k = int(input(\"enter how many elements to push or pop\"))\n",
    "for i in range(k):\n",
    "    if choice == 1:\n",
    "        item = int(input(\"enter item to push\"))\n",
    "        push(stack,item)\n",
    "    elif choice == 2:\n",
    "        pop(stack)\n",
    "    else:\n",
    "        print(\"invalid choice\")\n",
    "print(stack)"
   ]
  },
  {
   "cell_type": "code",
   "execution_count": 8,
   "id": "d1c907c9",
   "metadata": {},
   "outputs": [
    {
     "name": "stdout",
     "output_type": "stream",
     "text": [
      "6 5 4 3 2 1 6 5 4 3 2 1 "
     ]
    }
   ],
   "source": [
    "#queue\n",
    "class queue:\n",
    "    def __init__(self):\n",
    "        self.queue = list()\n",
    "    def addtoq(self,datavalue):\n",
    "        if datavalue not in self.queue:\n",
    "            self.queue.insert(0,datavalue)\n",
    "            return True\n",
    "        else:\n",
    "            return False\n",
    "    def peak(self):\n",
    "        return self.queue[-1]\n",
    "    def display(self):\n",
    "        for self.x in self.queue:\n",
    "            print(self.x,end=\" \")\n",
    "    def remove(self):\n",
    "        if len(self.queue)>0:\n",
    "            return(\"no elements in stack\")\n",
    "        else:\n",
    "            return self.queue.pop(-1)\n",
    "aqueue=queue()\n",
    "aqueue.addtoq('1')\n",
    "aqueue.addtoq('2')\n",
    "aqueue.addtoq('3')\n",
    "aqueue.addtoq('4')\n",
    "aqueue.addtoq('5')\n",
    "aqueue.addtoq('6')\n",
    "aqueue.peak()\n",
    "aqueue.display()\n",
    "aqueue.remove()\n",
    "aqueue.remove()\n",
    "aqueue.remove()\n",
    "aqueue.display()"
   ]
  },
  {
   "cell_type": "code",
   "execution_count": 7,
   "id": "598bbc8a",
   "metadata": {},
   "outputs": [
    {
     "name": "stdout",
     "output_type": "stream",
     "text": [
      "3 2 1 3 2 1 "
     ]
    }
   ],
   "source": [
    "class queue:\n",
    "    def __init__(self):\n",
    "        self.queue=[]\n",
    "    def add(self,dv):\n",
    "        if dv not in self.queue:\n",
    "            self.queue.insert(0,dv)\n",
    "            return True\n",
    "        else:\n",
    "            return False\n",
    "    def peak(self):\n",
    "        return self.queue[-1]\n",
    "    def display(self):\n",
    "        for self.x in self.queue:\n",
    "            print(self.x,end=\" \")\n",
    "    def remove(self):\n",
    "        if len(self.queue)>0:\n",
    "            return (\"queue is empty\")\n",
    "        else:\n",
    "            return self.queue.pop(-1)\n",
    "aqueue=queue()\n",
    "aqueue.add(1)\n",
    "aqueue.add(2)\n",
    "aqueue.add(3)\n",
    "aqueue.peak()\n",
    "aqueue.display()\n",
    "aqueue.remove()\n",
    "aqueue.remove()\n",
    "aqueue.display()"
   ]
  },
  {
   "cell_type": "code",
   "execution_count": 10,
   "id": "07731a68",
   "metadata": {},
   "outputs": [
    {
     "name": "stdout",
     "output_type": "stream",
     "text": [
      "1 2 3 4 5 6 1 2 3 "
     ]
    }
   ],
   "source": [
    "class stack:\n",
    "    def __init__(self):\n",
    "        self.stack=[]\n",
    "    def add (self,datavalues):\n",
    "        if datavalues not in self.stack:\n",
    "            self.stack.append(datavalues)\n",
    "            return True\n",
    "        else:\n",
    "            return False\n",
    "    def peak(self):\n",
    "        return self.stack[-1]\n",
    "    def display(self):\n",
    "        for self.x in self.stack:\n",
    "            print(self.x,end=\" \")\n",
    "    def remove(self):\n",
    "        if len(self.stack)<=0:\n",
    "            return(\"no elements in stack\")\n",
    "        else:\n",
    "            return self.stack.pop()\n",
    "    \n",
    "astack =stack()\n",
    "astack.add('1')\n",
    "astack.add('2')\n",
    "astack.add('3')\n",
    "astack.add('4')\n",
    "astack.add('5')\n",
    "astack.add('6')\n",
    "astack.peak()\n",
    "astack.display()\n",
    "astack.remove()\n",
    "astack.remove()\n",
    "astack.remove()\n",
    "#astack.remove()\n",
    "astack.display()"
   ]
  },
  {
   "cell_type": "code",
   "execution_count": 12,
   "id": "d1aa57a1",
   "metadata": {},
   "outputs": [
    {
     "name": "stdout",
     "output_type": "stream",
     "text": [
      "1 2 3 1 "
     ]
    }
   ],
   "source": [
    "class s:\n",
    "    def __init__(self):\n",
    "        self.s=[]\n",
    "    def add(self,dv):\n",
    "        if dv not in self.s:\n",
    "            self.s.append(dv)\n",
    "            return True\n",
    "        else:\n",
    "            return False\n",
    "    def peak(self):\n",
    "        return self.s(-1)\n",
    "    def display(self):\n",
    "        for self.x in self.s:\n",
    "            print(self.x,end=\" \")\n",
    "    def remove(self):\n",
    "        if len(self.s)<=0:\n",
    "            return (\"stack empty\")\n",
    "        else:\n",
    "            return self.s.pop()\n",
    "stack1=stack()\n",
    "stack1.add(1)\n",
    "stack1.add(2)\n",
    "stack1.add(3)\n",
    "stack1.peak()\n",
    "stack1.display()\n",
    "stack1.remove()\n",
    "stack1.remove()\n",
    "stack1.display()"
   ]
  },
  {
   "cell_type": "code",
   "execution_count": 1,
   "id": "f43dac9b",
   "metadata": {},
   "outputs": [],
   "source": [
    "#first in first out and first in last out(both stack and queue)\n",
    "import collections"
   ]
  },
  {
   "cell_type": "code",
   "execution_count": 3,
   "id": "1b56d69a",
   "metadata": {},
   "outputs": [
    {
     "name": "stdout",
     "output_type": "stream",
     "text": [
      "appended at right deque(['mon', 'tue', 'wed', 'thur'])\n",
      "append at right at left is  deque(['sun', 'mon', 'tue', 'wed', 'thur'])\n",
      "deque(['sun', 'mon', 'tue', 'wed'])\n",
      "deque(['mon', 'tue', 'wed'])\n"
     ]
    }
   ],
   "source": [
    "DE = collections.deque (['mon','tue','wed'])\n",
    "DE.append('thur')\n",
    "print(\"appended at right\",DE)\n",
    "DE.appendleft(\"sun\")\n",
    "print(\"append at right at left is \", DE)\n",
    "DE.pop()\n",
    "print(DE)\n",
    "DE.popleft()\n",
    "print(DE)"
   ]
  }
 ],
 "metadata": {
  "kernelspec": {
   "display_name": "Python 3 (ipykernel)",
   "language": "python",
   "name": "python3"
  },
  "language_info": {
   "codemirror_mode": {
    "name": "ipython",
    "version": 3
   },
   "file_extension": ".py",
   "mimetype": "text/x-python",
   "name": "python",
   "nbconvert_exporter": "python",
   "pygments_lexer": "ipython3",
   "version": "3.9.13"
  }
 },
 "nbformat": 4,
 "nbformat_minor": 5
}
