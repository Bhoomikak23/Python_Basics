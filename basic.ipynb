{
 "cells": [
  {
   "cell_type": "code",
   "execution_count": 1,
   "id": "fff8b2f4-fc36-4d25-b947-b9fdc86d3179",
   "metadata": {},
   "outputs": [
    {
     "name": "stdout",
     "output_type": "stream",
     "text": [
      "3\n"
     ]
    }
   ],
   "source": [
    "a=3\n",
    "print(a)\n"
   ]
  },
  {
   "cell_type": "code",
   "execution_count": 2,
   "id": "01e44165-15d7-4a4e-b77b-4c43774d5f17",
   "metadata": {},
   "outputs": [
    {
     "data": {
      "text/plain": [
       "int"
      ]
     },
     "execution_count": 2,
     "metadata": {},
     "output_type": "execute_result"
    }
   ],
   "source": [
    "type(a)\n"
   ]
  },
  {
   "cell_type": "code",
   "execution_count": 2,
   "id": "1d19150d-65e7-4c58-b5ea-ab4b468edb5f",
   "metadata": {},
   "outputs": [
    {
     "data": {
      "text/plain": [
       "int"
      ]
     },
     "execution_count": 2,
     "metadata": {},
     "output_type": "execute_result"
    }
   ],
   "source": [
    "a=6\n",
    "type(a)\n"
   ]
  },
  {
   "cell_type": "code",
   "execution_count": 4,
   "id": "212ea5a4-49e0-45aa-bf4c-c18e2621fdec",
   "metadata": {},
   "outputs": [],
   "source": [
    "b=5\n",
    "c=a+b\n"
   ]
  },
  {
   "cell_type": "code",
   "execution_count": 5,
   "id": "7d02a5c3-143f-4c8c-ac5b-2706c670087b",
   "metadata": {},
   "outputs": [
    {
     "name": "stdout",
     "output_type": "stream",
     "text": [
      "8\n"
     ]
    }
   ],
   "source": [
    "print(c)"
   ]
  },
  {
   "cell_type": "code",
   "execution_count": 5,
   "id": "a64f536c-350a-44e1-a96f-2614a141bd70",
   "metadata": {},
   "outputs": [
    {
     "name": "stdout",
     "output_type": "stream",
     "text": [
      "4\n"
     ]
    }
   ],
   "source": [
    "b=2\n",
    "d=b+2\n",
    "print(d)\n"
   ]
  },
  {
   "cell_type": "code",
   "execution_count": null,
   "id": "8212a976-8000-428d-bdfe-2c991617a8ab",
   "metadata": {},
   "outputs": [],
   "source": []
  },
  {
   "cell_type": "code",
   "execution_count": 1,
   "id": "2ed79360-9d63-44c3-b848-4848d5175224",
   "metadata": {},
   "outputs": [
    {
     "name": "stdin",
     "output_type": "stream",
     "text": [
      "enter a number 5\n"
     ]
    },
    {
     "name": "stdout",
     "output_type": "stream",
     "text": [
      "5\n"
     ]
    }
   ],
   "source": [
    "a=input('enter a number')\n",
    "print(a)\n",
    "\n",
    "\n",
    "\n",
    "\n"
   ]
  },
  {
   "cell_type": "code",
   "execution_count": 8,
   "id": "0e645d14-73c4-469b-9879-94f7936c037b",
   "metadata": {},
   "outputs": [
    {
     "name": "stdin",
     "output_type": "stream",
     "text": [
      "enter a number 6 8 3\n"
     ]
    },
    {
     "name": "stdout",
     "output_type": "stream",
     "text": [
      "6 8 3\n",
      "8\n"
     ]
    }
   ],
   "source": [
    "a,b,c=map(int,input('enter a number').split())\n",
    "print(a,b,c)\n",
    "if((a>b)&(a>c)):\n",
    "    print(a)\n",
    "elif((b>a)&(b>c)):\n",
    "    print(b)\n",
    "else:\n",
    "    print(c)"
   ]
  },
  {
   "cell_type": "code",
   "execution_count": 10,
   "id": "6c22744b-1045-4b0a-89e0-638543e2a749",
   "metadata": {},
   "outputs": [
    {
     "name": "stdin",
     "output_type": "stream",
     "text": [
      "enter a number 5 8 2\n"
     ]
    },
    {
     "name": "stdout",
     "output_type": "stream",
     "text": [
      "5 8 2\n",
      "8\n"
     ]
    }
   ],
   "source": [
    "a,b,c=map(int,input('enter a number').split())\n",
    "print(a,b,c)\n",
    "if((a>b)&(a>c)):\n",
    "    print(a)\n",
    "elif((b>a)&(b>c)):\n",
    "    print(b)\n",
    "else:\n",
    "    print(c)"
   ]
  },
  {
   "cell_type": "code",
   "execution_count": 11,
   "id": "960094dc-5377-4c58-87b5-92d5ce5ea00c",
   "metadata": {},
   "outputs": [
    {
     "name": "stdin",
     "output_type": "stream",
     "text": [
      "enter a number 10 56 88\n"
     ]
    },
    {
     "name": "stdout",
     "output_type": "stream",
     "text": [
      "10 56 88\n",
      "88\n"
     ]
    }
   ],
   "source": [
    "a,b,c=map(int,input('enter a number').split())\n",
    "print(a,b,c)\n",
    "if((a>b)&(a>c)):\n",
    "    print(a)\n",
    "elif((b>a)&(b>c)):\n",
    "    print(b)\n",
    "else:\n",
    "    print(c)"
   ]
  },
  {
   "cell_type": "code",
   "execution_count": 7,
   "id": "884c0f52-15db-4020-bea4-74e4c2766441",
   "metadata": {},
   "outputs": [
    {
     "name": "stdin",
     "output_type": "stream",
     "text": [
      "num 3\n",
      "num 4\n",
      "num 5\n"
     ]
    },
    {
     "name": "stdout",
     "output_type": "stream",
     "text": [
      "3\n",
      "4\n",
      "5\n",
      "5\n"
     ]
    }
   ],
   "source": [
    "a=input('num')\n",
    "b=input('num')\n",
    "c=input('num')\n",
    "print(a)\n",
    "print(b)\n",
    "print(c)\n",
    "if((a>b)&(a>c)):\n",
    "    print(a)\n",
    "elif((b>a)&(b>c)):\n",
    "    print(b)\n",
    "else:\n",
    "    print(c)"
   ]
  },
  {
   "cell_type": "code",
   "execution_count": 8,
   "id": "52a4b2db-c0e8-44e5-a98b-05166c6905d0",
   "metadata": {},
   "outputs": [
    {
     "name": "stdin",
     "output_type": "stream",
     "text": [
      "num 7\n",
      "num 8\n",
      "num 4\n"
     ]
    },
    {
     "name": "stdout",
     "output_type": "stream",
     "text": [
      "8\n"
     ]
    }
   ],
   "source": [
    "a=input('num')\n",
    "b=input('num')\n",
    "c=input('num')\n",
    "if((a>b)&(a>c)):\n",
    "    print(a)\n",
    "elif((b>a)&(b>c)):\n",
    "    print(b)\n",
    "else:\n",
    "    print(c)"
   ]
  },
  {
   "cell_type": "code",
   "execution_count": null,
   "id": "87966fff-1388-429d-a2be-58d3793983a7",
   "metadata": {},
   "outputs": [],
   "source": [
    "from numpy import * \n",
    "\n",
    "    \n",
    "    \n",
    "    \n",
    "    \n",
    "    \n",
    "    \n",
    "    \n",
    "    \n",
    "    \n",
    "    "
   ]
  }
 ],
 "metadata": {
  "kernelspec": {
   "display_name": "Python 3 (ipykernel)",
   "language": "python",
   "name": "python3"
  },
  "language_info": {
   "codemirror_mode": {
    "name": "ipython",
    "version": 3
   },
   "file_extension": ".py",
   "mimetype": "text/x-python",
   "name": "python",
   "nbconvert_exporter": "python",
   "pygments_lexer": "ipython3",
   "version": "3.9.13"
  }
 },
 "nbformat": 4,
 "nbformat_minor": 5
}
