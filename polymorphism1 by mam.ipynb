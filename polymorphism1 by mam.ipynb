{
 "cells": [
  {
   "cell_type": "markdown",
   "id": "e7c2d666",
   "metadata": {},
   "source": [
    "# polymorphism"
   ]
  },
  {
   "cell_type": "markdown",
   "id": "fc9b1a70",
   "metadata": {},
   "source": [
    "duck typing\n",
    "operator overloading\n",
    "method overloading\n",
    "method overriding"
   ]
  },
  {
   "cell_type": "markdown",
   "id": "b449dc00",
   "metadata": {},
   "source": [
    "# DUCK TYPING"
   ]
  },
  {
   "cell_type": "code",
   "execution_count": null,
   "id": "866bc684",
   "metadata": {},
   "outputs": [],
   "source": [
    "#dynamic type\n",
    "\n",
    "x = 5\n",
    "x = \"Bhoomika\"\n",
    "\n",
    "print(int.__add__(x,x))"
   ]
  },
  {
   "cell_type": "code",
   "execution_count": null,
   "id": "726bfebe",
   "metadata": {},
   "outputs": [],
   "source": []
  },
  {
   "cell_type": "code",
   "execution_count": 5,
   "id": "86e9c3c7",
   "metadata": {},
   "outputs": [
    {
     "name": "stdout",
     "output_type": "stream",
     "text": [
      "spell check\n",
      "convention check\n",
      "compiling\n",
      "running\n",
      "compiling\n",
      "Running\n"
     ]
    }
   ],
   "source": [
    "#interface\n",
    "\n",
    "class PyCharm:\n",
    "    \n",
    "    def execute(self):\n",
    "        print(\"compiling\")\n",
    "        print(\"Running\")\n",
    "        \n",
    "class MyEditor:\n",
    "    \n",
    "    def execute(self):\n",
    "        print(\"spell check\")\n",
    "        print(\"convention check\")\n",
    "        print(\"compiling\")\n",
    "        print(\"running\")\n",
    "        \n",
    "class laptop:\n",
    "    \n",
    "    def code(self,ide):\n",
    "        ide.execute()\n",
    " \n",
    "ide = MyEditor()\n",
    "\n",
    "lap1 = laptop()\n",
    "lap1.code(ide)\n",
    "\n",
    "ide = PyCharm()\n",
    "\n",
    "lap1 = laptop()\n",
    "lap1.code(ide)\n"
   ]
  },
  {
   "cell_type": "code",
   "execution_count": 8,
   "id": "241c42a4",
   "metadata": {},
   "outputs": [
    {
     "data": {
      "text/plain": [
       "11"
      ]
     },
     "execution_count": 8,
     "metadata": {},
     "output_type": "execute_result"
    }
   ],
   "source": [
    "#operator overloading\n",
    "\n",
    "a = 5\n",
    "b = 6\n",
    "\n",
    "print(a+b)\n",
    "\n",
    "int.__add__(a,b)"
   ]
  },
  {
   "cell_type": "code",
   "execution_count": 9,
   "id": "4e2a4c0f",
   "metadata": {},
   "outputs": [
    {
     "name": "stdout",
     "output_type": "stream",
     "text": [
      "30\n",
      "-10\n",
      "(0, 10)\n",
      "200\n"
     ]
    }
   ],
   "source": [
    "a = 10\n",
    "b = 20\n",
    "\n",
    "print(int.__add__(a,b))\n",
    "print(int.__sub__(a,b))\n",
    "print(int.__divmod__(a,b))\n",
    "print(int.__mul__(a,b))"
   ]
  },
  {
   "cell_type": "code",
   "execution_count": 11,
   "id": "4ad3b976",
   "metadata": {},
   "outputs": [
    {
     "name": "stdout",
     "output_type": "stream",
     "text": [
      "bhoomikak\n"
     ]
    }
   ],
   "source": [
    "a = \"bhoomika\"\n",
    "b = \"k\"\n",
    "print(str.__add__(a,b))  #magica method"
   ]
  },
  {
   "cell_type": "code",
   "execution_count": 13,
   "id": "4fa3be94",
   "metadata": {
    "scrolled": true
   },
   "outputs": [
    {
     "ename": "TypeError",
     "evalue": "unsupported operand type(s) for +: 'student' and 'student'",
     "output_type": "error",
     "traceback": [
      "\u001b[1;31m---------------------------------------------------------------------------\u001b[0m",
      "\u001b[1;31mTypeError\u001b[0m                                 Traceback (most recent call last)",
      "\u001b[1;32m~\\AppData\\Local\\Temp\\ipykernel_33592\\735352257.py\u001b[0m in \u001b[0;36m<module>\u001b[1;34m\u001b[0m\n\u001b[0;32m      9\u001b[0m \u001b[0ms2\u001b[0m \u001b[1;33m=\u001b[0m \u001b[0mstudent\u001b[0m\u001b[1;33m(\u001b[0m\u001b[1;36m30\u001b[0m\u001b[1;33m,\u001b[0m\u001b[1;36m20\u001b[0m\u001b[1;33m)\u001b[0m\u001b[1;33m\u001b[0m\u001b[1;33m\u001b[0m\u001b[0m\n\u001b[0;32m     10\u001b[0m \u001b[1;33m\u001b[0m\u001b[0m\n\u001b[1;32m---> 11\u001b[1;33m \u001b[0ms3\u001b[0m \u001b[1;33m=\u001b[0m \u001b[0ms1\u001b[0m\u001b[1;33m+\u001b[0m\u001b[0ms2\u001b[0m\u001b[1;33m\u001b[0m\u001b[1;33m\u001b[0m\u001b[0m\n\u001b[0m",
      "\u001b[1;31mTypeError\u001b[0m: unsupported operand type(s) for +: 'student' and 'student'"
     ]
    }
   ],
   "source": [
    "class student:\n",
    "    \n",
    "    def __init__(self,m1,m2):\n",
    "        \n",
    "        self.m1 = m1\n",
    "        self.m2 = m2\n",
    "        \n",
    "st1 = student(10,20)\n",
    "st2 = student(30,20)\n",
    "\n",
    "s3 = st1+st2"
   ]
  },
  {
   "cell_type": "code",
   "execution_count": 17,
   "id": "f19e3e4e",
   "metadata": {},
   "outputs": [
    {
     "name": "stdout",
     "output_type": "stream",
     "text": [
      "10\n",
      "s2 wins\n",
      "10 20\n",
      "30 20\n"
     ]
    }
   ],
   "source": [
    "class student:\n",
    "    \n",
    "    def __init__(self,m1,m2):\n",
    "        \n",
    "        self.m1 = m1\n",
    "        self.m2 = m2\n",
    "        \n",
    "    def __add__(self,others):\n",
    "        m1 = self.m1 + others.m1\n",
    "        m2 = self.m2 + others.m2\n",
    "        s3 = student(m1+m2)\n",
    "        return s3\n",
    "    \n",
    "    def __gt__(self,others):\n",
    "        r1 = self.m1 + self.m2\n",
    "        r2 = others.m1 + others.m2\n",
    "        if r1 > r2:\n",
    "            return True\n",
    "        else:\n",
    "            return False\n",
    "        \n",
    "    def __str__(self):\n",
    "        return '{} {}'.format(self.m1,self.m2)\n",
    "    \n",
    "        \n",
    "s1 = student(10,20)\n",
    "s2 = student(30,20)\n",
    "\n",
    "print(s1.m1)\n",
    "\n",
    "if s1>s2:\n",
    "    print(\"s1 wins\")\n",
    "else:\n",
    "    print(\"s2 wins\")\n",
    "    \n",
    "print(s1.__str__())\n",
    "print(s2.__str__())"
   ]
  },
  {
   "cell_type": "code",
   "execution_count": 18,
   "id": "19626a02",
   "metadata": {},
   "outputs": [
    {
     "name": "stdout",
     "output_type": "stream",
     "text": [
      "9\n"
     ]
    }
   ],
   "source": [
    "a = 9\n",
    "print(a)"
   ]
  },
  {
   "cell_type": "code",
   "execution_count": 19,
   "id": "b1a0458e",
   "metadata": {},
   "outputs": [
    {
     "ename": "TypeError",
     "evalue": "sum() missing 1 required positional argument: 'c'",
     "output_type": "error",
     "traceback": [
      "\u001b[1;31m---------------------------------------------------------------------------\u001b[0m",
      "\u001b[1;31mTypeError\u001b[0m                                 Traceback (most recent call last)",
      "\u001b[1;32m~\\AppData\\Local\\Temp\\ipykernel_33592\\2218937387.py\u001b[0m in \u001b[0;36m<module>\u001b[1;34m\u001b[0m\n\u001b[0;32m     12\u001b[0m \u001b[1;33m\u001b[0m\u001b[0m\n\u001b[0;32m     13\u001b[0m \u001b[0ms1\u001b[0m \u001b[1;33m=\u001b[0m \u001b[0mstudent\u001b[0m\u001b[1;33m(\u001b[0m\u001b[1;36m12\u001b[0m\u001b[1;33m,\u001b[0m\u001b[1;36m13\u001b[0m\u001b[1;33m)\u001b[0m\u001b[1;33m\u001b[0m\u001b[1;33m\u001b[0m\u001b[0m\n\u001b[1;32m---> 14\u001b[1;33m \u001b[0mprint\u001b[0m\u001b[1;33m(\u001b[0m\u001b[0ms1\u001b[0m\u001b[1;33m.\u001b[0m\u001b[0msum\u001b[0m\u001b[1;33m(\u001b[0m\u001b[1;36m1\u001b[0m\u001b[1;33m,\u001b[0m\u001b[1;36m2\u001b[0m\u001b[1;33m)\u001b[0m\u001b[1;33m)\u001b[0m\u001b[1;33m\u001b[0m\u001b[1;33m\u001b[0m\u001b[0m\n\u001b[0m",
      "\u001b[1;31mTypeError\u001b[0m: sum() missing 1 required positional argument: 'c'"
     ]
    }
   ],
   "source": [
    "#method overloading\n",
    "\n",
    "class student:\n",
    "    \n",
    "    def __init__(self,m1,m2):\n",
    "        self.m1 = m1\n",
    "        self.m2 = m2\n",
    "        \n",
    "    def sum(self,a,b,c):\n",
    "        s = a+b+c\n",
    "        return s\n",
    "    \n",
    "s1 = student(12,13)\n",
    "print(s1.sum(1,2))"
   ]
  },
  {
   "cell_type": "code",
   "execution_count": 20,
   "id": "18f0e38e",
   "metadata": {},
   "outputs": [
    {
     "ename": "TypeError",
     "evalue": "unsupported operand type(s) for +: 'int' and 'NoneType'",
     "output_type": "error",
     "traceback": [
      "\u001b[1;31m---------------------------------------------------------------------------\u001b[0m",
      "\u001b[1;31mTypeError\u001b[0m                                 Traceback (most recent call last)",
      "\u001b[1;32m~\\AppData\\Local\\Temp\\ipykernel_33592\\1276343417.py\u001b[0m in \u001b[0;36m<module>\u001b[1;34m\u001b[0m\n\u001b[0;32m     10\u001b[0m \u001b[1;33m\u001b[0m\u001b[0m\n\u001b[0;32m     11\u001b[0m \u001b[0ms1\u001b[0m \u001b[1;33m=\u001b[0m \u001b[0mstudent\u001b[0m\u001b[1;33m(\u001b[0m\u001b[1;36m12\u001b[0m\u001b[1;33m,\u001b[0m\u001b[1;36m13\u001b[0m\u001b[1;33m)\u001b[0m\u001b[1;33m\u001b[0m\u001b[1;33m\u001b[0m\u001b[0m\n\u001b[1;32m---> 12\u001b[1;33m \u001b[0mprint\u001b[0m\u001b[1;33m(\u001b[0m\u001b[0ms1\u001b[0m\u001b[1;33m.\u001b[0m\u001b[0msum\u001b[0m\u001b[1;33m(\u001b[0m\u001b[1;36m1\u001b[0m\u001b[1;33m,\u001b[0m\u001b[1;36m2\u001b[0m\u001b[1;33m)\u001b[0m\u001b[1;33m)\u001b[0m\u001b[1;33m\u001b[0m\u001b[1;33m\u001b[0m\u001b[0m\n\u001b[0m",
      "\u001b[1;32m~\\AppData\\Local\\Temp\\ipykernel_33592\\1276343417.py\u001b[0m in \u001b[0;36msum\u001b[1;34m(self, a, b, c)\u001b[0m\n\u001b[0;32m      6\u001b[0m \u001b[1;33m\u001b[0m\u001b[0m\n\u001b[0;32m      7\u001b[0m     \u001b[1;32mdef\u001b[0m \u001b[0msum\u001b[0m\u001b[1;33m(\u001b[0m\u001b[0mself\u001b[0m\u001b[1;33m,\u001b[0m\u001b[0ma\u001b[0m\u001b[1;33m=\u001b[0m\u001b[1;32mNone\u001b[0m\u001b[1;33m,\u001b[0m\u001b[0mb\u001b[0m\u001b[1;33m=\u001b[0m\u001b[1;32mNone\u001b[0m\u001b[1;33m,\u001b[0m\u001b[0mc\u001b[0m\u001b[1;33m=\u001b[0m\u001b[1;32mNone\u001b[0m\u001b[1;33m)\u001b[0m\u001b[1;33m:\u001b[0m\u001b[1;33m\u001b[0m\u001b[1;33m\u001b[0m\u001b[0m\n\u001b[1;32m----> 8\u001b[1;33m         \u001b[0ms\u001b[0m \u001b[1;33m=\u001b[0m \u001b[0ma\u001b[0m\u001b[1;33m+\u001b[0m\u001b[0mb\u001b[0m\u001b[1;33m+\u001b[0m\u001b[0mc\u001b[0m\u001b[1;33m\u001b[0m\u001b[1;33m\u001b[0m\u001b[0m\n\u001b[0m\u001b[0;32m      9\u001b[0m         \u001b[1;32mreturn\u001b[0m \u001b[0ms\u001b[0m\u001b[1;33m\u001b[0m\u001b[1;33m\u001b[0m\u001b[0m\n\u001b[0;32m     10\u001b[0m \u001b[1;33m\u001b[0m\u001b[0m\n",
      "\u001b[1;31mTypeError\u001b[0m: unsupported operand type(s) for +: 'int' and 'NoneType'"
     ]
    }
   ],
   "source": [
    "class student:\n",
    "    \n",
    "    def __init__(self,m1,m2):\n",
    "        self.m1 = m1\n",
    "        self.m2 = m2\n",
    "        \n",
    "    def sum(self,a=None,b=None,c=None):\n",
    "        s = a+b+c\n",
    "        return s\n",
    "    \n",
    "s1 = student(12,13)\n",
    "print(s1.sum(1,2))"
   ]
  },
  {
   "cell_type": "code",
   "execution_count": 21,
   "id": "d643465c",
   "metadata": {},
   "outputs": [
    {
     "name": "stdout",
     "output_type": "stream",
     "text": [
      "3\n"
     ]
    }
   ],
   "source": [
    "class student:\n",
    "    \n",
    "    def __init__(self,m1,m2):\n",
    "        self.m1 = m1\n",
    "        self.m2 = m2\n",
    "        \n",
    "    def sum(self,a=None,b=None,c=None):\n",
    "        s = 0\n",
    "        if a!=None and b!=None and c!=None:\n",
    "            s = a+b+c\n",
    "        elif a!=None and b!=None:\n",
    "            s = a+b\n",
    "        else:\n",
    "            s = a\n",
    "        return s\n",
    "    \n",
    "s1 = student(12,13)\n",
    "print(s1.sum(1,2))"
   ]
  },
  {
   "cell_type": "code",
   "execution_count": 22,
   "id": "edf807cd",
   "metadata": {},
   "outputs": [
    {
     "name": "stdout",
     "output_type": "stream",
     "text": [
      "in A show\n"
     ]
    }
   ],
   "source": [
    "#method overriding\n",
    "class A:\n",
    "    \n",
    "    def show(self):\n",
    "        print(\"in A show\")\n",
    "        \n",
    "class B:\n",
    "    pass\n",
    "\n",
    "a1 = A()\n",
    "a1.show()"
   ]
  },
  {
   "cell_type": "code",
   "execution_count": 24,
   "id": "b3f6f17e",
   "metadata": {},
   "outputs": [
    {
     "name": "stdout",
     "output_type": "stream",
     "text": [
      "in B show\n"
     ]
    }
   ],
   "source": [
    "class A:\n",
    "    \n",
    "    def show(self):\n",
    "        print(\"in A show\")\n",
    "        \n",
    "class B(A):\n",
    "    def show(self):\n",
    "        print(\"in B show\")\n",
    "\n",
    "a1 = B()\n",
    "a1.show()"
   ]
  }
 ],
 "metadata": {
  "kernelspec": {
   "display_name": "Python 3 (ipykernel)",
   "language": "python",
   "name": "python3"
  },
  "language_info": {
   "codemirror_mode": {
    "name": "ipython",
    "version": 3
   },
   "file_extension": ".py",
   "mimetype": "text/x-python",
   "name": "python",
   "nbconvert_exporter": "python",
   "pygments_lexer": "ipython3",
   "version": "3.9.13"
  }
 },
 "nbformat": 4,
 "nbformat_minor": 5
}
