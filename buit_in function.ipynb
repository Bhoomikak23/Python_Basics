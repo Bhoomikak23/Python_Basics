{
 "cells": [
  {
   "cell_type": "markdown",
   "id": "476f578d",
   "metadata": {},
   "source": [
    "# build_in function\n"
   ]
  },
  {
   "cell_type": "code",
   "execution_count": null,
   "id": "323a4ee7",
   "metadata": {},
   "outputs": [],
   "source": [
    "list=[\"venu\"]\n",
    "name=\"venu\"\n",
    "list.extend(name)\n",
    "print(list)"
   ]
  },
  {
   "cell_type": "code",
   "execution_count": null,
   "id": "b52eaed2",
   "metadata": {},
   "outputs": [],
   "source": [
    "list = [2,6,7,8]\n",
    "list.append(9)\n",
    "print(list)"
   ]
  },
  {
   "cell_type": "code",
   "execution_count": null,
   "id": "f24f026b",
   "metadata": {},
   "outputs": [],
   "source": [
    "l=[3,\"bhooma\",\"venu\"]\n",
    "l.extend(\"venu\")\n",
    "print(l)"
   ]
  },
  {
   "cell_type": "code",
   "execution_count": 5,
   "id": "196bb11d",
   "metadata": {},
   "outputs": [
    {
     "name": "stdout",
     "output_type": "stream",
     "text": [
      "vbhoomaebhoomanbhoomau\n"
     ]
    }
   ],
   "source": [
    "u=\"bhooma\"\n",
    "a=\"venu\"\n",
    "b=u.join(a)\n",
    "print(b)"
   ]
  },
  {
   "cell_type": "code",
   "execution_count": null,
   "id": "e0aad93e",
   "metadata": {},
   "outputs": [],
   "source": [
    "list = [\"bhooma\",\"mona\",\"ranju\"]\n",
    "list.insert(2,\"nandu\")\n",
    "print(list)"
   ]
  },
  {
   "cell_type": "code",
   "execution_count": null,
   "id": "2084041f",
   "metadata": {},
   "outputs": [],
   "source": [
    "num = [1,2,3,4]\n",
    "num.reverse()\n",
    "print(num)"
   ]
  },
  {
   "cell_type": "code",
   "execution_count": null,
   "id": "dc559b71",
   "metadata": {},
   "outputs": [],
   "source": [
    "a = [\"mona\",\"bhooma\",\"ranju\",\"nnadu\"]\n",
    "a.pop(1)\n",
    "print(a)"
   ]
  },
  {
   "cell_type": "code",
   "execution_count": null,
   "id": "cd79b3c5",
   "metadata": {},
   "outputs": [],
   "source": [
    "a = [2,76,98,6,78,3,78,98,76]\n",
    "print(min(a))\n",
    "print(max(a))\n",
    "print(a)"
   ]
  },
  {
   "cell_type": "code",
   "execution_count": null,
   "id": "2c6cb2cb",
   "metadata": {},
   "outputs": [],
   "source": [
    "b = [1,2,3,4,\"guddi\",\"veniii\"]\n",
    "print(len(b))\n",
    "print(b)"
   ]
  },
  {
   "cell_type": "code",
   "execution_count": null,
   "id": "fc389b95",
   "metadata": {},
   "outputs": [],
   "source": [
    "list = [\"akshi\",\"bhagya\",\"sonu\",\"anushree\",\"kalpi\",\"dg\",\"deepu\",\"bhoomi\"]\n",
    "del(list[1:3])\n",
    "print(list)"
   ]
  },
  {
   "cell_type": "code",
   "execution_count": 6,
   "id": "976ba146",
   "metadata": {},
   "outputs": [
    {
     "name": "stdout",
     "output_type": "stream",
     "text": [
      "bdghdgodgodgmdgi\n"
     ]
    }
   ],
   "source": [
    "a = \"dg\"\n",
    "b = \"bhoomi\"\n",
    "print(a.join(b))"
   ]
  },
  {
   "cell_type": "code",
   "execution_count": 7,
   "id": "6453ebd7",
   "metadata": {},
   "outputs": [
    {
     "data": {
      "text/plain": [
       "False"
      ]
     },
     "execution_count": 7,
     "metadata": {},
     "output_type": "execute_result"
    }
   ],
   "source": [
    "a = \"HELLO\"\n",
    "a.islower()\n"
   ]
  },
  {
   "cell_type": "code",
   "execution_count": 8,
   "id": "51b9285f",
   "metadata": {},
   "outputs": [
    {
     "data": {
      "text/plain": [
       "True"
      ]
     },
     "execution_count": 8,
     "metadata": {},
     "output_type": "execute_result"
    }
   ],
   "source": [
    "a = \"hello\"\n",
    "a.islower()\n"
   ]
  },
  {
   "cell_type": "code",
   "execution_count": 9,
   "id": "a8488f8c",
   "metadata": {},
   "outputs": [
    {
     "data": {
      "text/plain": [
       "True"
      ]
     },
     "execution_count": 9,
     "metadata": {},
     "output_type": "execute_result"
    }
   ],
   "source": [
    "a = \"HELLO\"\n",
    "a.isupper()\n"
   ]
  },
  {
   "cell_type": "code",
   "execution_count": 10,
   "id": "6d20045c",
   "metadata": {},
   "outputs": [
    {
     "data": {
      "text/plain": [
       "False"
      ]
     },
     "execution_count": 10,
     "metadata": {},
     "output_type": "execute_result"
    }
   ],
   "source": [
    "a = \"hello\"\n",
    "a.isupper()"
   ]
  },
  {
   "cell_type": "code",
   "execution_count": 11,
   "id": "ad91db44",
   "metadata": {},
   "outputs": [
    {
     "data": {
      "text/plain": [
       "'BHOOMA IS A GOOD GIRL'"
      ]
     },
     "execution_count": 11,
     "metadata": {},
     "output_type": "execute_result"
    }
   ],
   "source": [
    "a = \"bhooma is a good girl\"\n",
    "a.upper()\n"
   ]
  },
  {
   "cell_type": "code",
   "execution_count": null,
   "id": "147ebda8",
   "metadata": {},
   "outputs": [],
   "source": [
    "a = \"VENUUU LOOSUU\"\n",
    "b = a.lower()\n",
    "print(b)"
   ]
  },
  {
   "cell_type": "code",
   "execution_count": null,
   "id": "4d84dae4",
   "metadata": {},
   "outputs": [],
   "source": [
    "a = \"  \"\n",
    "a.isspace()"
   ]
  },
  {
   "cell_type": "code",
   "execution_count": null,
   "id": "24eb3053",
   "metadata": {},
   "outputs": [],
   "source": [
    "a = \" a \"\n",
    "a.isspace()"
   ]
  },
  {
   "cell_type": "code",
   "execution_count": null,
   "id": "a1fc8bdd",
   "metadata": {},
   "outputs": [],
   "source": [
    "a = \"bhooma\"\n",
    "a.isnumeric()"
   ]
  },
  {
   "cell_type": "code",
   "execution_count": null,
   "id": "c6548726",
   "metadata": {},
   "outputs": [],
   "source": [
    "a = \"1235678976543\"\n",
    "a.isnumeric()\n"
   ]
  },
  {
   "cell_type": "code",
   "execution_count": null,
   "id": "08efa822",
   "metadata": {},
   "outputs": [],
   "source": [
    "a = 123456789\n",
    "a.isnumeric()"
   ]
  },
  {
   "cell_type": "code",
   "execution_count": null,
   "id": "9d910d03",
   "metadata": {},
   "outputs": [],
   "source": [
    "a = \"bhooma is a good girl\"\n",
    "a.capitalize()"
   ]
  },
  {
   "cell_type": "code",
   "execution_count": 14,
   "id": "2bd04c6c",
   "metadata": {},
   "outputs": [
    {
     "name": "stdout",
     "output_type": "stream",
     "text": [
      "1\n"
     ]
    }
   ],
   "source": [
    "a = [1,3,5,6,9]\n",
    "print(a.index(3))"
   ]
  },
  {
   "cell_type": "code",
   "execution_count": null,
   "id": "038ec502",
   "metadata": {},
   "outputs": [],
   "source": [
    "a = [6,8,3,6,5,2]\n",
    "a.sort()\n",
    "print(a)"
   ]
  },
  {
   "cell_type": "code",
   "execution_count": null,
   "id": "6c094744",
   "metadata": {},
   "outputs": [],
   "source": [
    "a = ['b','h','o','o','m','i']\n",
    "a.sort()\n",
    "print(a)"
   ]
  },
  {
   "cell_type": "code",
   "execution_count": 11,
   "id": "03af1d75",
   "metadata": {},
   "outputs": [
    {
     "name": "stdout",
     "output_type": "stream",
     "text": [
      "Bhoomika K\n"
     ]
    }
   ],
   "source": [
    "a = \"bHOOMIKA k\"\n",
    "b = a.swapcase()\n",
    "\n",
    "print(b)"
   ]
  },
  {
   "cell_type": "code",
   "execution_count": 9,
   "id": "a0667196",
   "metadata": {},
   "outputs": [
    {
     "name": "stdout",
     "output_type": "stream",
     "text": [
      "MONIKA\n"
     ]
    }
   ],
   "source": [
    "a = \"monika\"\n",
    "b = a.swapcase()\n",
    "print(b)"
   ]
  },
  {
   "cell_type": "code",
   "execution_count": 38,
   "id": "5d12cdcd",
   "metadata": {},
   "outputs": [
    {
     "data": {
      "text/plain": [
       "False"
      ]
     },
     "execution_count": 38,
     "metadata": {},
     "output_type": "execute_result"
    }
   ],
   "source": [
    "a = \"It's A Python\"\n",
    "a.istitle()"
   ]
  },
  {
   "cell_type": "code",
   "execution_count": 42,
   "id": "6d0167df",
   "metadata": {},
   "outputs": [
    {
     "data": {
      "text/plain": [
       "True"
      ]
     },
     "execution_count": 42,
     "metadata": {},
     "output_type": "execute_result"
    }
   ],
   "source": [
    "a = \"It'S A Python\"\n",
    "a.istitle()"
   ]
  },
  {
   "cell_type": "code",
   "execution_count": 43,
   "id": "26103ec4",
   "metadata": {},
   "outputs": [
    {
     "data": {
      "text/plain": [
       "True"
      ]
     },
     "execution_count": 43,
     "metadata": {},
     "output_type": "execute_result"
    }
   ],
   "source": [
    "A = \"Its A Python\"\n",
    "a.istitle()"
   ]
  },
  {
   "cell_type": "code",
   "execution_count": 45,
   "id": "8f53d7c9",
   "metadata": {},
   "outputs": [
    {
     "data": {
      "text/plain": [
       "'Its A Python'"
      ]
     },
     "execution_count": 45,
     "metadata": {},
     "output_type": "execute_result"
    }
   ],
   "source": [
    "a = \"its a python\"\n",
    "a.title()"
   ]
  },
  {
   "cell_type": "code",
   "execution_count": 8,
   "id": "c855cba4",
   "metadata": {
    "scrolled": false
   },
   "outputs": [
    {
     "name": "stdout",
     "output_type": "stream",
     "text": [
      "[1, 2, 3, 4, 5]\n"
     ]
    }
   ],
   "source": [
    "a = [1,2,3,4,5]\n",
    "b = a.copy()\n",
    "print(b)"
   ]
  },
  {
   "cell_type": "code",
   "execution_count": 16,
   "id": "6b6a5077",
   "metadata": {},
   "outputs": [
    {
     "name": "stdout",
     "output_type": "stream",
     "text": [
      "[]\n"
     ]
    }
   ],
   "source": [
    "a = [1,2,3,4,5,6,7]\n",
    "a.clear()\n",
    "print(a)"
   ]
  },
  {
   "cell_type": "code",
   "execution_count": 1,
   "id": "071c2334",
   "metadata": {},
   "outputs": [
    {
     "name": "stdout",
     "output_type": "stream",
     "text": [
      "[]\n"
     ]
    }
   ],
   "source": [
    "name = [\"mona\",\"bhooma\",\"chintu\"]\n",
    "name.clear()\n",
    "print(name)"
   ]
  },
  {
   "cell_type": "code",
   "execution_count": 18,
   "id": "019a4dcb",
   "metadata": {},
   "outputs": [
    {
     "name": "stdout",
     "output_type": "stream",
     "text": [
      "[3, 4, 5, 6, 7, 8, 9]\n"
     ]
    }
   ],
   "source": [
    "a = [2,3,4,5,6,7,8,9]\n",
    "a.remove(2)\n",
    "print(a)"
   ]
  },
  {
   "cell_type": "code",
   "execution_count": 2,
   "id": "a7241781",
   "metadata": {},
   "outputs": [
    {
     "name": "stdout",
     "output_type": "stream",
     "text": [
      "['sujatha']\n"
     ]
    }
   ],
   "source": [
    "a = [\"dummi\",\"sujatha\"]\n",
    "a.remove(\"dummi\")\n",
    "print(a)"
   ]
  },
  {
   "cell_type": "code",
   "execution_count": 20,
   "id": "8e091d55",
   "metadata": {},
   "outputs": [
    {
     "name": "stdout",
     "output_type": "stream",
     "text": [
      "['bhoomika', 'aishu', 'venu']\n"
     ]
    }
   ],
   "source": [
    "list = [\"venu\",\"aishu\",\"bhoomika\"]\n",
    "list.reverse()\n",
    "print(list)"
   ]
  },
  {
   "cell_type": "code",
   "execution_count": 34,
   "id": "59822d18",
   "metadata": {},
   "outputs": [
    {
     "name": "stdout",
     "output_type": "stream",
     "text": [
      "monika\n",
      "{'name': 'monika', 'age': 24, 'school': 'jnv', 'class': 'mbbs'}\n"
     ]
    }
   ],
   "source": [
    "a = {'name':'bhooma',\n",
    "     'age':21,\n",
    "      'school':'jnv'}\n",
    "a['name']='monika'#update\n",
    "a['age']=24\n",
    "a['class']='mbbs'#insert\n",
    "print(a.get('name'))\n",
    "print(a)"
   ]
  },
  {
   "cell_type": "code",
   "execution_count": 46,
   "id": "2413c90d",
   "metadata": {},
   "outputs": [
    {
     "data": {
      "text/plain": [
       "'hello universe'"
      ]
     },
     "execution_count": 46,
     "metadata": {},
     "output_type": "execute_result"
    }
   ],
   "source": [
    "s = \"hello world\"\n",
    "s.replace(\"world\",\"universe\")"
   ]
  },
  {
   "cell_type": "code",
   "execution_count": 3,
   "id": "7d085446",
   "metadata": {},
   "outputs": [
    {
     "data": {
      "text/plain": [
       "'bhoomikalleshia kalleshi'"
      ]
     },
     "execution_count": 3,
     "metadata": {},
     "output_type": "execute_result"
    }
   ],
   "source": [
    "s = \"bhoomika k\"\n",
    "s.replace(\"k\",\"kalleshi\")"
   ]
  },
  {
   "cell_type": "code",
   "execution_count": 53,
   "id": "25180247",
   "metadata": {},
   "outputs": [
    {
     "data": {
      "text/plain": [
       "'hello universe universe world'"
      ]
     },
     "execution_count": 53,
     "metadata": {},
     "output_type": "execute_result"
    }
   ],
   "source": [
    "s = \"hello world world world\"\n",
    "s.replace(\"world\",\"universe\",2)"
   ]
  },
  {
   "cell_type": "code",
   "execution_count": 55,
   "id": "a95c5d5f",
   "metadata": {},
   "outputs": [
    {
     "name": "stdout",
     "output_type": "stream",
     "text": [
      "{'name': 'abc', 'class': 4, 'age': 23}\n"
     ]
    }
   ],
   "source": [
    "name = {\"name\":\"abc\",\"class\":4}\n",
    "name2 = {\"age\":23}\n",
    "name.update(name2)\n",
    "print(name)\n"
   ]
  },
  {
   "cell_type": "code",
   "execution_count": 12,
   "id": "4182c5dd",
   "metadata": {},
   "outputs": [
    {
     "name": "stdout",
     "output_type": "stream",
     "text": [
      "{'name': 'bhoomika', 'age': 21, 'class': 4, 'usn': 4567}\n"
     ]
    }
   ],
   "source": [
    "a = {\"name\":\"bhoomika\",\n",
    "      \"age\":21,\n",
    "       \"class\":4}\n",
    "b = {\"usn\":4567}\n",
    "a.update(b)\n",
    "print(a)"
   ]
  },
  {
   "cell_type": "code",
   "execution_count": 13,
   "id": "9c9b16d8",
   "metadata": {},
   "outputs": [
    {
     "name": "stdout",
     "output_type": "stream",
     "text": [
      "[1, 2, 3, 3, 4]\n"
     ]
    }
   ],
   "source": [
    "a = [1,2,3,3,4]\n",
    "print(a)"
   ]
  }
 ],
 "metadata": {
  "kernelspec": {
   "display_name": "Python 3 (ipykernel)",
   "language": "python",
   "name": "python3"
  },
  "language_info": {
   "codemirror_mode": {
    "name": "ipython",
    "version": 3
   },
   "file_extension": ".py",
   "mimetype": "text/x-python",
   "name": "python",
   "nbconvert_exporter": "python",
   "pygments_lexer": "ipython3",
   "version": "3.9.13"
  }
 },
 "nbformat": 4,
 "nbformat_minor": 5
}
