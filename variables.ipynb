{
 "cells": [
  {
   "cell_type": "markdown",
   "id": "efc1912b",
   "metadata": {},
   "source": [
    "# variables"
   ]
  },
  {
   "cell_type": "code",
   "execution_count": 2,
   "id": "7f7ff45f",
   "metadata": {},
   "outputs": [
    {
     "name": "stdout",
     "output_type": "stream",
     "text": [
      "bhoomi\n"
     ]
    }
   ],
   "source": [
    "var=\"bhoomi\"\n",
    "print(var)"
   ]
  },
  {
   "cell_type": "code",
   "execution_count": 4,
   "id": "835ee104",
   "metadata": {},
   "outputs": [
    {
     "name": "stdout",
     "output_type": "stream",
     "text": [
      "1\n",
      "<class 'int'>\n",
      "------------\n",
      "1.0\n",
      "<class 'float'>\n"
     ]
    }
   ],
   "source": [
    "a=1\n",
    "print(a)\n",
    "print(type(a))\n",
    "print(\"------------\")\n",
    "b=float(a)\n",
    "print(b)\n",
    "print(type(b))"
   ]
  },
  {
   "cell_type": "code",
   "execution_count": 15,
   "id": "edbe92ee",
   "metadata": {},
   "outputs": [
    {
     "name": "stdout",
     "output_type": "stream",
     "text": [
      "4\n",
      "4\n"
     ]
    }
   ],
   "source": [
    "a=4\n",
    "b=6\n",
    "print(a)\n",
    "b+=a\n",
    "print(a)"
   ]
  },
  {
   "cell_type": "code",
   "execution_count": 20,
   "id": "e6141555",
   "metadata": {},
   "outputs": [
    {
     "name": "stdout",
     "output_type": "stream",
     "text": [
      "False\n"
     ]
    }
   ],
   "source": [
    "a=11\n",
    "b=56\n",
    "print(a>=b)"
   ]
  },
  {
   "cell_type": "code",
   "execution_count": 27,
   "id": "38ad8e1d",
   "metadata": {},
   "outputs": [],
   "source": [
    "from winsound import Beep\n",
    "notes = {\"C\":1635,\n",
    "        \"D\":1835,\n",
    "        \"E\":2060,\n",
    "         \"F\":2183,\n",
    "         \"G\":2450,\n",
    "         \"A\":2750,\n",
    "         \"B\":3087,\n",
    "         \"C\":3270,\n",
    "         \" \":37\n",
    "      }\n",
    "melodies=\"E BA BABG ABA GF E BA BABG ABA E B \"\n",
    "for note in melodies:\n",
    "    Beep(notes[note],100)"
   ]
  },
  {
   "cell_type": "code",
   "execution_count": null,
   "id": "d5f4f54f",
   "metadata": {},
   "outputs": [],
   "source": []
  }
 ],
 "metadata": {
  "kernelspec": {
   "display_name": "Python 3 (ipykernel)",
   "language": "python",
   "name": "python3"
  },
  "language_info": {
   "codemirror_mode": {
    "name": "ipython",
    "version": 3
   },
   "file_extension": ".py",
   "mimetype": "text/x-python",
   "name": "python",
   "nbconvert_exporter": "python",
   "pygments_lexer": "ipython3",
   "version": "3.9.13"
  }
 },
 "nbformat": 4,
 "nbformat_minor": 5
}
