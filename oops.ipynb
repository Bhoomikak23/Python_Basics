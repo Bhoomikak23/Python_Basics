{
 "cells": [
  {
   "cell_type": "markdown",
   "id": "65d440dc",
   "metadata": {},
   "source": [
    "int\n",
    "string\n",
    "float\n",
    "boolean\n",
    "complex"
   ]
  },
  {
   "cell_type": "code",
   "execution_count": null,
   "id": "433b2d48",
   "metadata": {},
   "outputs": [],
   "source": [
    "a = 12\n",
    "print(type(a))"
   ]
  },
  {
   "cell_type": "code",
   "execution_count": null,
   "id": "bf14769c",
   "metadata": {},
   "outputs": [],
   "source": [
    "class Computer: #class\n",
    "    \n",
    "    def config(self):#method\n",
    "        print(\"i5 16gb 1TB\")\n",
    "        \n",
    "comp1 = Computer() #object\n",
    "\n",
    "print(type(comp1))\n",
    "print(comp1)"
   ]
  },
  {
   "cell_type": "code",
   "execution_count": null,
   "id": "82ecf333",
   "metadata": {},
   "outputs": [],
   "source": [
    "class Computer: #class\n",
    "    \n",
    "    def config(self):#method\n",
    "        print(\"i5 16gb 1TB\")\n",
    "        \n",
    "comp1 = Computer() #object\n",
    "\n",
    "config()"
   ]
  },
  {
   "cell_type": "code",
   "execution_count": null,
   "id": "d433f3ae",
   "metadata": {},
   "outputs": [],
   "source": [
    "def add(a,b):\n",
    "    c = a+b\n",
    "    return c\n",
    "\n",
    "a = 1\n",
    "b = 2\n",
    "add(a)"
   ]
  },
  {
   "cell_type": "code",
   "execution_count": null,
   "id": "596bfe46",
   "metadata": {},
   "outputs": [],
   "source": [
    "class Computer: #class\n",
    "    \n",
    "    def config(self):#method\n",
    "        print(\"i5 16gb 1TB\")\n",
    "        \n",
    "comp1 = Computer() #object\n",
    "\n",
    "Computer.config(comp1)"
   ]
  },
  {
   "cell_type": "code",
   "execution_count": null,
   "id": "38ba9b8e",
   "metadata": {},
   "outputs": [],
   "source": [
    "class Computer: #class\n",
    "    \n",
    "    def config(self):#method\n",
    "        print(\"i5 16gb 1TB\")\n",
    "        \n",
    "comp1 = Computer() #object\n",
    "comp2 = Computer()\n",
    "\n",
    "Computer.config(comp1)\n",
    "Computer.config(comp2)"
   ]
  },
  {
   "cell_type": "code",
   "execution_count": null,
   "id": "2bafe7e5",
   "metadata": {},
   "outputs": [],
   "source": [
    "class Computer: #class\n",
    "    \n",
    "    def __init__(self):\n",
    "        print(\"computer\")\n",
    "    \n",
    "    def config(self):#method\n",
    "        print(\"i5 16gb 1TB\")\n",
    "        \n",
    "comp1 = Computer()#object\n",
    "comp2 = Computer()\n",
    "\n",
    "comp1.config()\n",
    "comp2.config()"
   ]
  },
  {
   "cell_type": "code",
   "execution_count": null,
   "id": "1ad86ba8",
   "metadata": {},
   "outputs": [],
   "source": [
    "class Computer:#class\n",
    "    \n",
    "    def __init__(self,cpu,ram):\n",
    "        \n",
    "        self.cpu = cpu\n",
    "        self.ram = ram\n",
    "        \n",
    "    def config(self):#method\n",
    "        print(\"config is \",self.cpu,self.ram)\n",
    "        \n",
    "comp1 = Computer('i5','16gb')#object\n",
    "comp2 = Computer('i3','16gb')\n",
    "\n",
    "comp1.config()\n",
    "comp2.config()"
   ]
  },
  {
   "cell_type": "code",
   "execution_count": null,
   "id": "74368821",
   "metadata": {},
   "outputs": [],
   "source": [
    "class student:\n",
    "    def __init__(self,name,usn):\n",
    "        \n",
    "        self.name = name\n",
    "        self.usn = usn\n",
    "    \n",
    "    def details(self):\n",
    "        print(\"details is \",self.name,self.usn)\n",
    "        \n",
    "stud1 = student('bhoomika','4ub20cs011')\n",
    "stud2 = student('venugopal😎✨','4ub20cs056')\n",
    "\n",
    "stud1.details()\n",
    "stud2.details()"
   ]
  },
  {
   "cell_type": "code",
   "execution_count": null,
   "id": "d184129e",
   "metadata": {},
   "outputs": [],
   "source": [
    "class employe:\n",
    "    def __init__(self,name,salary):\n",
    "        self.name = name\n",
    "        self.salary = salary\n",
    "        \n",
    "    def details(self):\n",
    "        print(\"details is \",self.name,self.salary)\n",
    "        \n",
    "emp1 = employe('bhooma','20000')\n",
    "emp2 = employe('venu😎✨','30000')\n",
    "\n",
    "emp1.details()\n",
    "emp2.details()"
   ]
  },
  {
   "cell_type": "code",
   "execution_count": null,
   "id": "3f105380",
   "metadata": {},
   "outputs": [],
   "source": [
    "class home:\n",
    "    def __init__(self,rent,number_of_ppls):\n",
    "        self.rent = rent\n",
    "        self.number_of_ppls = number_of_ppls\n",
    "        \n",
    "    def detail(self):\n",
    "        print(\"details are \",self.rent,self.number_of_ppls)\n",
    "        \n",
    "home1 = home('7000','6')\n",
    "home2 = home('5000','4')\n",
    "\n",
    "home1.detail()\n",
    "home2.detail()"
   ]
  },
  {
   "cell_type": "code",
   "execution_count": null,
   "id": "37846cdb",
   "metadata": {},
   "outputs": [],
   "source": [
    "class hotel:\n",
    "    def __init__(self,recipes,cost):\n",
    "        self.recipes = recipes\n",
    "        self.cost = cost\n",
    "        \n",
    "    def details(self):\n",
    "        print(self.recipes,\"have cost\",self.cost)\n",
    "        \n",
    "hotel1 = hotel('french fries🍟','120')\n",
    "hotel2 = hotel('noodles🍝','150')\n",
    "\n",
    "hotel1.details()\n",
    "hotel2.details()"
   ]
  },
  {
   "cell_type": "code",
   "execution_count": null,
   "id": "017fcf2f",
   "metadata": {},
   "outputs": [],
   "source": [
    "class computer:\n",
    "    pass\n",
    "\n",
    "c = computer()\n",
    "\n",
    "print(id(c))"
   ]
  },
  {
   "cell_type": "code",
   "execution_count": null,
   "id": "1fbb24df",
   "metadata": {},
   "outputs": [],
   "source": [
    "class student:\n",
    "    def __init__(self):\n",
    "        self.name = 'bhoomika'\n",
    "        self.age = 24\n",
    "        \n",
    "    def update(self):\n",
    "        self.age = 24\n",
    "        \n",
    "    def compare(self,other):\n",
    "        if self.age == other.age:\n",
    "            return True\n",
    "        else:\n",
    "            return False\n",
    "    \n",
    "#object \n",
    "c = student()\n",
    "c1 = student()\n",
    "\n",
    "c1.name = 'monika❤'\n",
    "c1.age = 18\n",
    "\n",
    "c1.update()\n",
    "\n",
    "if c.compare(c1):\n",
    "    print(\"same\")\n",
    "else:\n",
    "    print(\"not same\")\n",
    "\n",
    "\n",
    "\n",
    "print(c.age)\n",
    "print(c1.age)"
   ]
  },
  {
   "cell_type": "code",
   "execution_count": null,
   "id": "b9effcc2",
   "metadata": {},
   "outputs": [],
   "source": [
    "class employe:\n",
    "    def __init__(self,name,salary):\n",
    "        self.name = name\n",
    "        self.salary = salary\n",
    "        \n",
    "    def update(self):\n",
    "        self.salary = 20000\n",
    "        \n",
    "    def compare(self,other):\n",
    "        if self.salary == other.salary:\n",
    "            return True\n",
    "        else:\n",
    "            return False\n",
    "        \n",
    "c = employe(\"bhoomika\",30000)\n",
    "c1 = employe(\"venugopal😎✨\",50000)\n",
    "\n",
    "c1.name = \"venu🤩\"\n",
    "c1.salary = 40000\n",
    "\n",
    "c1.update()\n",
    "\n",
    "if c.compare(c1):\n",
    "    print(\"same\")\n",
    "else:\n",
    "    print(\"not same\")\n",
    "    \n",
    "print(c.salary)\n",
    "print(c1.salary)\n",
    "print(c1.name)"
   ]
  },
  {
   "cell_type": "code",
   "execution_count": null,
   "id": "7a250f51",
   "metadata": {},
   "outputs": [],
   "source": [
    "class car:\n",
    "    wheels = 4\n",
    "    \n",
    "    def __init__(self):\n",
    "        self.mil = 20\n",
    "        self.company = \"BMW🚗\"\n",
    "        \n",
    "c1 = car()\n",
    "c2 = car()\n",
    "\n",
    "print(c1.mil,c1.company,c1.wheels)\n",
    "print(c2.mil,c2.company,c2.wheels)"
   ]
  },
  {
   "cell_type": "code",
   "execution_count": null,
   "id": "60a9deaf",
   "metadata": {},
   "outputs": [],
   "source": [
    "class college:\n",
    "    def __init__(self,m1,m2,m3):\n",
    "        self.m1 = m1\n",
    "        self.m2 = m2\n",
    "        self.m3 = m3\n",
    "        \n",
    "    def avg(self):\n",
    "        a = (self.m1+self.m2+self.m3)/3\n",
    "        return a\n",
    "    \n",
    "c1 = college(10,20,30)\n",
    "c2 = college(20,40,60)\n",
    "\n",
    "print(c1.avg())\n",
    "print(c2.avg())"
   ]
  },
  {
   "cell_type": "code",
   "execution_count": null,
   "id": "f5b7f69e",
   "metadata": {},
   "outputs": [],
   "source": [
    "class employe:\n",
    "    def __init__(self,sal1,sal2,sal3):\n",
    "        self.sal1 = sal1\n",
    "        self.sal2 = sal2\n",
    "        self.sal3 = sal3\n",
    "        \n",
    "    def avg(self):\n",
    "        return (self.sal1+self.sal2+self.sal3)/3\n",
    "    \n",
    "e1 = employe(1000,6000,9000)\n",
    "e2 = employe(6000,8000,5000)\n",
    "\n",
    "print(e1.avg())\n",
    "print(e2.avg())"
   ]
  },
  {
   "cell_type": "code",
   "execution_count": 10,
   "id": "993bb50b",
   "metadata": {},
   "outputs": [
    {
     "name": "stdout",
     "output_type": "stream",
     "text": [
      "20.0\n",
      "40.0\n"
     ]
    }
   ],
   "source": [
    "class college:\n",
    "    def __init__(self,m1,m2,m3):\n",
    "        self.m1 = m1\n",
    "        self.m2 = m2\n",
    "        self.m3 = m3\n",
    "        \n",
    "    def avg(self):\n",
    "        a = (self.m1+self.m2+self.m3)/3\n",
    "        return a\n",
    "    \n",
    "    def get_m1(self):\n",
    "        return self.m1\n",
    "    \n",
    "    def set_m1(self,value):\n",
    "        self.m1 = values\n",
    "    \n",
    "c1 = college(10,20,30)\n",
    "c2 = college(20,40,60)\n",
    "\n",
    "print(c1.avg())\n",
    "print(c2.avg())"
   ]
  },
  {
   "cell_type": "code",
   "execution_count": 6,
   "id": "22772918",
   "metadata": {},
   "outputs": [
    {
     "name": "stdout",
     "output_type": "stream",
     "text": [
      "this is student class in oop's modules\n",
      "ubdt\n",
      "20.0\n",
      "40.0\n"
     ]
    }
   ],
   "source": [
    "class student:\n",
    "    \n",
    "    college = \"ubdt\"\n",
    "    \n",
    "    def __init__(self,m1,m2,m3):\n",
    "        self.m1 = m1\n",
    "        self.m2 = m2\n",
    "        self.m3 = m3\n",
    "        \n",
    "    def avg(self):\n",
    "        a = (self.m1+self.m2+self.m3)/3\n",
    "        return a\n",
    "    \n",
    "    @classmethod\n",
    "    def getcollege(cls):\n",
    "        return cls.college\n",
    "    \n",
    "    @staticmethod\n",
    "    def info():\n",
    "        print(\"this is student class in oop's modules\")\n",
    "    \n",
    "c1 = student(10,20,30)\n",
    "c2 = student(20,40,60)\n",
    "\n",
    "student.info()\n",
    "print(student.getcollege())\n",
    "print(c1.avg())\n",
    "print(c2.avg())"
   ]
  },
  {
   "cell_type": "code",
   "execution_count": null,
   "id": "8c349904",
   "metadata": {
    "scrolled": true
   },
   "outputs": [],
   "source": [
    "class library:\n",
    "    \n",
    "    name = \"vishishta\"\n",
    "    \n",
    "    def __init__(self,n1,n2,n3):\n",
    "        self.n1 = n1\n",
    "        self.n2 = n2\n",
    "        self.n3 = n3\n",
    "        \n",
    "    def dis(self):\n",
    "        return \"n1->\",self.n1,\"n2->\",self.n2,\"n3->\",self.n3\n",
    "        \n",
    "    @classmethod\n",
    "    def getname(cls):\n",
    "        return cls.name\n",
    "    \n",
    "    @staticmethod\n",
    "    def info():\n",
    "        print(\"this is list of book names in library:\")\n",
    "        \n",
    "o1 = library(\"maths\",\"bio\",\"phy\")\n",
    "o2 = library(\"dbms\",\"atc\",\"unix\")\n",
    "\n",
    "library.info()\n",
    "print(library.getname())\n",
    "print(o1.dis())\n",
    "print(o2.dis())"
   ]
  },
  {
   "cell_type": "code",
   "execution_count": null,
   "id": "5e0de957",
   "metadata": {},
   "outputs": [],
   "source": [
    "pip install do_twice"
   ]
  },
  {
   "cell_type": "code",
   "execution_count": 3,
   "id": "26544a11",
   "metadata": {},
   "outputs": [
    {
     "ename": "ImportError",
     "evalue": "cannot import name 'do_twice' from 'decorator' (C:\\Users\\BHOOMIKA K\\anaconda3\\lib\\site-packages\\decorator.py)",
     "output_type": "error",
     "traceback": [
      "\u001b[1;31m---------------------------------------------------------------------------\u001b[0m",
      "\u001b[1;31mImportError\u001b[0m                               Traceback (most recent call last)",
      "\u001b[1;32m~\\AppData\\Local\\Temp\\ipykernel_16836\\2665364028.py\u001b[0m in \u001b[0;36m<module>\u001b[1;34m\u001b[0m\n\u001b[1;32m----> 1\u001b[1;33m \u001b[1;32mfrom\u001b[0m \u001b[0mdecorator\u001b[0m \u001b[1;32mimport\u001b[0m \u001b[0mdo_twice\u001b[0m\u001b[1;33m\u001b[0m\u001b[1;33m\u001b[0m\u001b[0m\n\u001b[0m\u001b[0;32m      2\u001b[0m \u001b[1;33m@\u001b[0m\u001b[0mdo_twice\u001b[0m\u001b[1;33m\u001b[0m\u001b[1;33m\u001b[0m\u001b[0m\n\u001b[0;32m      3\u001b[0m \u001b[1;32mdef\u001b[0m \u001b[0msay_hello\u001b[0m\u001b[1;33m(\u001b[0m\u001b[1;33m)\u001b[0m\u001b[1;33m:\u001b[0m\u001b[1;33m\u001b[0m\u001b[1;33m\u001b[0m\u001b[0m\n\u001b[0;32m      4\u001b[0m     \u001b[0mprint\u001b[0m\u001b[1;33m(\u001b[0m\u001b[1;34m\"hello there\"\u001b[0m\u001b[1;33m)\u001b[0m\u001b[1;33m\u001b[0m\u001b[1;33m\u001b[0m\u001b[0m\n\u001b[0;32m      5\u001b[0m \u001b[0msay_hello\u001b[0m\u001b[1;33m(\u001b[0m\u001b[1;33m)\u001b[0m\u001b[1;33m\u001b[0m\u001b[1;33m\u001b[0m\u001b[0m\n",
      "\u001b[1;31mImportError\u001b[0m: cannot import name 'do_twice' from 'decorator' (C:\\Users\\BHOOMIKA K\\anaconda3\\lib\\site-packages\\decorator.py)"
     ]
    }
   ],
   "source": [
    "from decorator import do_twice\n",
    "@do_twice\n",
    "def say_hello():\n",
    "    print(\"hello there\")\n",
    "say_hello()"
   ]
  },
  {
   "cell_type": "code",
   "execution_count": null,
   "id": "27c5608b",
   "metadata": {},
   "outputs": [],
   "source": [
    "from decoratorcor import do_twice\n"
   ]
  },
  {
   "cell_type": "code",
   "execution_count": 4,
   "id": "3d30b703",
   "metadata": {},
   "outputs": [
    {
     "name": "stdout",
     "output_type": "stream",
     "text": [
      "Requirement already satisfied: app in c:\\users\\bhoomika k\\anaconda3\\lib\\site-packages (0.0.1)Note: you may need to restart the kernel to use updated packages.\n",
      "\n"
     ]
    }
   ],
   "source": [
    "pip install app"
   ]
  },
  {
   "cell_type": "code",
   "execution_count": null,
   "id": "c477a812",
   "metadata": {},
   "outputs": [],
   "source": []
  },
  {
   "cell_type": "code",
   "execution_count": 1,
   "id": "07d6faf7",
   "metadata": {
    "scrolled": true
   },
   "outputs": [
    {
     "ename": "ImportError",
     "evalue": "cannot import name 'app' from 'app' (C:\\Users\\BHOOMIKA K\\anaconda3\\lib\\site-packages\\app\\__init__.py)",
     "output_type": "error",
     "traceback": [
      "\u001b[1;31m---------------------------------------------------------------------------\u001b[0m",
      "\u001b[1;31mImportError\u001b[0m                               Traceback (most recent call last)",
      "\u001b[1;32m~\\AppData\\Local\\Temp\\ipykernel_17204\\3015544015.py\u001b[0m in \u001b[0;36m<module>\u001b[1;34m\u001b[0m\n\u001b[1;32m----> 1\u001b[1;33m \u001b[1;32mfrom\u001b[0m \u001b[0mapp\u001b[0m \u001b[1;32mimport\u001b[0m \u001b[0mapp\u001b[0m\u001b[1;33m\u001b[0m\u001b[1;33m\u001b[0m\u001b[0m\n\u001b[0m",
      "\u001b[1;31mImportError\u001b[0m: cannot import name 'app' from 'app' (C:\\Users\\BHOOMIKA K\\anaconda3\\lib\\site-packages\\app\\__init__.py)"
     ]
    }
   ],
   "source": [
    "from app import app\n"
   ]
  },
  {
   "cell_type": "code",
   "execution_count": 4,
   "id": "675b4e49",
   "metadata": {
    "scrolled": true
   },
   "outputs": [
    {
     "ename": "ImportError",
     "evalue": "cannot import name 'do_twice' from 'decorators' (C:\\Users\\BHOOMIKA K\\anaconda3\\lib\\site-packages\\decorators\\__init__.py)",
     "output_type": "error",
     "traceback": [
      "\u001b[1;31m---------------------------------------------------------------------------\u001b[0m",
      "\u001b[1;31mImportError\u001b[0m                               Traceback (most recent call last)",
      "\u001b[1;32m~\\AppData\\Local\\Temp\\ipykernel_16836\\2789537054.py\u001b[0m in \u001b[0;36m<module>\u001b[1;34m\u001b[0m\n\u001b[1;32m----> 1\u001b[1;33m \u001b[1;32mfrom\u001b[0m \u001b[0mdecorators\u001b[0m \u001b[1;32mimport\u001b[0m \u001b[0mdo_twice\u001b[0m\u001b[1;33m\u001b[0m\u001b[1;33m\u001b[0m\u001b[0m\n\u001b[0m\u001b[0;32m      2\u001b[0m \u001b[1;33m\u001b[0m\u001b[0m\n\u001b[0;32m      3\u001b[0m \u001b[1;33m@\u001b[0m\u001b[0mdo_twice\u001b[0m\u001b[1;33m\u001b[0m\u001b[1;33m\u001b[0m\u001b[0m\n\u001b[0;32m      4\u001b[0m \u001b[1;32mdef\u001b[0m \u001b[0msay_whee\u001b[0m\u001b[1;33m(\u001b[0m\u001b[1;33m)\u001b[0m\u001b[1;33m:\u001b[0m\u001b[1;33m\u001b[0m\u001b[1;33m\u001b[0m\u001b[0m\n\u001b[0;32m      5\u001b[0m     \u001b[0mprint\u001b[0m\u001b[1;33m(\u001b[0m\u001b[1;34m\"Whee!\"\u001b[0m\u001b[1;33m)\u001b[0m\u001b[1;33m\u001b[0m\u001b[1;33m\u001b[0m\u001b[0m\n",
      "\u001b[1;31mImportError\u001b[0m: cannot import name 'do_twice' from 'decorators' (C:\\Users\\BHOOMIKA K\\anaconda3\\lib\\site-packages\\decorators\\__init__.py)"
     ]
    }
   ],
   "source": [
    "from decorators import do_twice\n",
    "\n",
    "@do_twice\n",
    "def say_whee():\n",
    "    print(\"Whee!\")"
   ]
  },
  {
   "cell_type": "code",
   "execution_count": 5,
   "id": "99d5a15c",
   "metadata": {},
   "outputs": [
    {
     "name": "stdout",
     "output_type": "stream",
     "text": [
      "bhoomika 20\n",
      "hp i5 8\n"
     ]
    }
   ],
   "source": [
    "class student:\n",
    "    \n",
    "    def __init__(self,name,age):\n",
    "        self.name = name\n",
    "        self.age = age\n",
    "        self.lap = self.laptop()\n",
    "        \n",
    "    def show(self):\n",
    "        print(self.name,self.age)\n",
    "        self.lap.show1()\n",
    "        \n",
    "    class laptop: #inner class\n",
    "        \n",
    "        def __init__(self):\n",
    "            self.brand = \"hp\"\n",
    "            self.cpu = \"i5\"\n",
    "            self.ram = 8\n",
    "            \n",
    "        def show1(self):\n",
    "            print(self.brand,self.cpu,self.ram)\n",
    "            \n",
    "s = student(\"bhoomika\",20)\n",
    "s.show()"
   ]
  },
  {
   "cell_type": "code",
   "execution_count": null,
   "id": "e04a5e30",
   "metadata": {},
   "outputs": [],
   "source": [
    "class library:\n",
    "    \n",
    "    def __init__(self,name,no_of_books):\n",
    "        self.name = name\n",
    "        self.no_of_books = no_of_books\n",
    "        "
   ]
  },
  {
   "cell_type": "code",
   "execution_count": null,
   "id": "eb7a0637",
   "metadata": {},
   "outputs": [],
   "source": []
  }
 ],
 "metadata": {
  "kernelspec": {
   "display_name": "Python 3 (ipykernel)",
   "language": "python",
   "name": "python3"
  },
  "language_info": {
   "codemirror_mode": {
    "name": "ipython",
    "version": 3
   },
   "file_extension": ".py",
   "mimetype": "text/x-python",
   "name": "python",
   "nbconvert_exporter": "python",
   "pygments_lexer": "ipython3",
   "version": "3.9.13"
  }
 },
 "nbformat": 4,
 "nbformat_minor": 5
}
