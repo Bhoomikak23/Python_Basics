{
 "cells": [
  {
   "cell_type": "markdown",
   "id": "8c0fb3eb",
   "metadata": {},
   "source": [
    "# types of functions"
   ]
  },
  {
   "cell_type": "code",
   "execution_count": 2,
   "id": "829fb8dd",
   "metadata": {},
   "outputs": [
    {
     "data": {
      "text/plain": [
       "30"
      ]
     },
     "execution_count": 2,
     "metadata": {},
     "output_type": "execute_result"
    }
   ],
   "source": [
    "#no input no output\n",
    "def cal():\n",
    "    a = 10\n",
    "    b = 20\n",
    "    c = a+b\n",
    "    print(c)\n",
    "cal()"
   ]
  },
  {
   "cell_type": "code",
   "execution_count": 6,
   "id": "413d0039",
   "metadata": {},
   "outputs": [
    {
     "data": {
      "text/plain": [
       "30"
      ]
     },
     "execution_count": 6,
     "metadata": {},
     "output_type": "execute_result"
    }
   ],
   "source": [
    "#not have parameter but it return some value\n",
    "def cal():\n",
    "    a = 10\n",
    "    b = 20\n",
    "    c = a+b\n",
    "    return c\n",
    "cal()\n",
    "#print(cal())"
   ]
  },
  {
   "cell_type": "code",
   "execution_count": 9,
   "id": "66bdc567",
   "metadata": {},
   "outputs": [
    {
     "name": "stdout",
     "output_type": "stream",
     "text": [
      "30\n"
     ]
    }
   ],
   "source": [
    "#have input parameter but it does not return any value\n",
    "def cal(a,b):\n",
    "    c = a+b\n",
    "    print(c)\n",
    "cal(10,20)"
   ]
  },
  {
   "cell_type": "code",
   "execution_count": 11,
   "id": "1ae1fced",
   "metadata": {},
   "outputs": [
    {
     "name": "stdout",
     "output_type": "stream",
     "text": [
      "30\n"
     ]
    }
   ],
   "source": [
    "#have input parameter and also it returns some value\n",
    "def cal(a,b):\n",
    "    c = a+b\n",
    "    return c\n",
    "print(cal(10,20))"
   ]
  },
  {
   "cell_type": "markdown",
   "id": "62534bc9",
   "metadata": {},
   "source": [
    "# lambda"
   ]
  },
  {
   "cell_type": "code",
   "execution_count": 7,
   "id": "d22bef77",
   "metadata": {},
   "outputs": [
    {
     "name": "stdout",
     "output_type": "stream",
     "text": [
      "5\n"
     ]
    }
   ],
   "source": [
    "a = lambda x : x + 2\n",
    "print(a(3))"
   ]
  },
  {
   "cell_type": "code",
   "execution_count": 10,
   "id": "df296ef0",
   "metadata": {},
   "outputs": [
    {
     "name": "stdout",
     "output_type": "stream",
     "text": [
      "5\n"
     ]
    }
   ],
   "source": [
    "a = lambda x , y : x + y\n",
    "print(a(2,3))"
   ]
  },
  {
   "cell_type": "code",
   "execution_count": 9,
   "id": "f41cc1c2",
   "metadata": {},
   "outputs": [
    {
     "name": "stdout",
     "output_type": "stream",
     "text": [
      "loosuuvenuu\n"
     ]
    }
   ],
   "source": [
    "venu = lambda x , y : x + y\n",
    "print(venu(\"loosuu\",\"venuu\"))"
   ]
  },
  {
   "cell_type": "code",
   "execution_count": 8,
   "id": "cf2bc76f",
   "metadata": {},
   "outputs": [
    {
     "name": "stdout",
     "output_type": "stream",
     "text": [
      "3\n"
     ]
    }
   ],
   "source": [
    "a = lambda x , y , z : x+y-z+2\n",
    "print(a(2,3,4))"
   ]
  },
  {
   "cell_type": "code",
   "execution_count": 27,
   "id": "14ed52cb",
   "metadata": {},
   "outputs": [
    {
     "name": "stdout",
     "output_type": "stream",
     "text": [
      "hi\n"
     ]
    }
   ],
   "source": [
    "st = lambda x:print(\"hi\") if(x>10) else print(\"hello\")\n",
    "st(16)"
   ]
  },
  {
   "cell_type": "code",
   "execution_count": 26,
   "id": "1946a329",
   "metadata": {},
   "outputs": [
    {
     "name": "stdout",
     "output_type": "stream",
     "text": [
      "letters\n"
     ]
    }
   ],
   "source": [
    "st = lambda x : print(\"letters\") if(x.isalpha) else print(\"numbers\")\n",
    "st('bhoomiiiiii')"
   ]
  },
  {
   "cell_type": "markdown",
   "id": "380025db",
   "metadata": {},
   "source": [
    "# random"
   ]
  },
  {
   "cell_type": "code",
   "execution_count": 12,
   "id": "1e2af2c6",
   "metadata": {},
   "outputs": [
    {
     "name": "stdout",
     "output_type": "stream",
     "text": [
      "0.35816721169035437\n",
      "6\n",
      "2.9972597709909743\n",
      "0.1415741569337976\n"
     ]
    }
   ],
   "source": [
    "#generate random numbers in python\n",
    "\n",
    "import random as rm \n",
    "\n",
    "print(rm.random())\n",
    "print(rm.randrange(0,10)) #it gives in integer\n",
    "print(rm.uniform(0,10))  #it gives in float\n",
    "      \n",
    "#make a program that creates a random number and stores it into x\n",
    "      \n",
    "x = rm.random()\n",
    "print(x)\n",
    "      \n",
    "#create a program that generates 100 random numbers\n",
    "#and find the frequency of each number."
   ]
  },
  {
   "cell_type": "code",
   "execution_count": 13,
   "id": "574319e4",
   "metadata": {},
   "outputs": [
    {
     "name": "stdout",
     "output_type": "stream",
     "text": [
      "8.542265047117853\n",
      "9\n"
     ]
    }
   ],
   "source": [
    "#1 to 10\n",
    "import random\n",
    "x = random.uniform(1,10)\n",
    "print(x)\n",
    "\n",
    "print(round(x))"
   ]
  },
  {
   "cell_type": "code",
   "execution_count": 15,
   "id": "95cdb419",
   "metadata": {},
   "outputs": [
    {
     "name": "stdout",
     "output_type": "stream",
     "text": [
      "[58, 70, 24]\n"
     ]
    }
   ],
   "source": [
    "#make a prgrm that prints 3 random numbers\n",
    "import random\n",
    "randomlist = []\n",
    "\n",
    "for i in range(0,3):\n",
    "    n = random.randint(11,90)\n",
    "    randomlist.append(n)\n",
    "print(randomlist)"
   ]
  },
  {
   "cell_type": "code",
   "execution_count": 16,
   "id": "61e10cd1",
   "metadata": {},
   "outputs": [
    {
     "name": "stdout",
     "output_type": "stream",
     "text": [
      "5\n",
      "8\n"
     ]
    }
   ],
   "source": [
    "print(rm.randrange(0,10))\n",
    "print(rm.randint(0,10))"
   ]
  },
  {
   "cell_type": "code",
   "execution_count": 17,
   "id": "8533e502",
   "metadata": {},
   "outputs": [
    {
     "name": "stdout",
     "output_type": "stream",
     "text": [
      "p6]rqM4zwJ1vXRlH\n"
     ]
    }
   ],
   "source": [
    "import random\n",
    "\n",
    "lower=\"abcdefghijklmnopqrstuvwxyz\"\n",
    "upper=\"ABCDEFGHIJKLMNOPQRSTUVWXYZ\"\n",
    "numbers='0123456789'\n",
    "symbols=\"[]{}()*&^%$#@!|_\"\n",
    "\n",
    "all=lower+upper+numbers+symbols\n",
    "length = 16\n",
    "password = \"\".join(random.sample(all,length))\n",
    "print(password)"
   ]
  }
 ],
 "metadata": {
  "kernelspec": {
   "display_name": "Python 3 (ipykernel)",
   "language": "python",
   "name": "python3"
  },
  "language_info": {
   "codemirror_mode": {
    "name": "ipython",
    "version": 3
   },
   "file_extension": ".py",
   "mimetype": "text/x-python",
   "name": "python",
   "nbconvert_exporter": "python",
   "pygments_lexer": "ipython3",
   "version": "3.9.13"
  }
 },
 "nbformat": 4,
 "nbformat_minor": 5
}
