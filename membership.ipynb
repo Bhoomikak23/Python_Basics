{
 "cells": [
  {
   "cell_type": "markdown",
   "id": "a0f49fd3",
   "metadata": {},
   "source": [
    "# membership\n"
   ]
  },
  {
   "cell_type": "code",
   "execution_count": 2,
   "id": "afb86b8f",
   "metadata": {},
   "outputs": [
    {
     "name": "stdout",
     "output_type": "stream",
     "text": [
      "line 1-a is not available in the given list\n",
      "line 2-a is not available in the given list\n",
      "2.0\n",
      "line 3-a is available in the given list\n",
      "line 4-a is available in the given list\n"
     ]
    }
   ],
   "source": [
    "a=10\n",
    "b=20\n",
    "list=[1,2,3,4]\n",
    "\n",
    "if(a in list):\n",
    "    print(\"line 1-a is available in the given list\")\n",
    "else:\n",
    "    print(\"line 1-a is not available in the given list\")\n",
    "    \n",
    "if(a not in list):\n",
    "    print(\"line 2-a is not available in the given list\")\n",
    "else:\n",
    "    print(\"line 2-a is available in the given list\")\n",
    "    \n",
    "c=b/a\n",
    "print(c)\n",
    "\n",
    "if(c in list):\n",
    "    print(\"line 3-a is available in the given list\")\n",
    "else:\n",
    "    print(\"line 3-a is not available in the given list\")\n",
    "\n",
    "if(c not in list):\n",
    "    print(\"line 4-a is not available in the given list\")\n",
    "else:\n",
    "    print(\"line 4-a is available in the given list\")"
   ]
  },
  {
   "cell_type": "code",
   "execution_count": 3,
   "id": "c19c32a2",
   "metadata": {},
   "outputs": [
    {
     "name": "stdout",
     "output_type": "stream",
     "text": [
      "dacude ot emoclew\n"
     ]
    }
   ],
   "source": [
    "b = \"welcome to educad\"\n",
    "c = b[::-1]\n",
    "print(c)"
   ]
  },
  {
   "cell_type": "code",
   "execution_count": null,
   "id": "79605070",
   "metadata": {},
   "outputs": [],
   "source": []
  }
 ],
 "metadata": {
  "kernelspec": {
   "display_name": "Python 3 (ipykernel)",
   "language": "python",
   "name": "python3"
  },
  "language_info": {
   "codemirror_mode": {
    "name": "ipython",
    "version": 3
   },
   "file_extension": ".py",
   "mimetype": "text/x-python",
   "name": "python",
   "nbconvert_exporter": "python",
   "pygments_lexer": "ipython3",
   "version": "3.9.13"
  }
 },
 "nbformat": 4,
 "nbformat_minor": 5
}
